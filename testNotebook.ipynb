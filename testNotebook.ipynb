{
  "cells": [
    {
      "cell_type": "markdown",
      "metadata": {
        "id": "view-in-github",
        "colab_type": "text"
      },
      "source": [
        "<a href=\"https://colab.research.google.com/github/bthosar/Data-Science--Cheat-Sheet/blob/master/testNotebook.ipynb\" target=\"_parent\"><img src=\"https://colab.research.google.com/assets/colab-badge.svg\" alt=\"Open In Colab\"/></a>"
      ]
    },
    {
      "cell_type": "code",
      "execution_count": null,
      "metadata": {
        "id": "_9EPCsvQ5NEP"
      },
      "outputs": [],
      "source": [
        "from twelvedata import TDClient\n",
        "import pandas as pd\n",
        "\n",
        "# Initialize client - apikey parameter is requiered\n",
        "td = TDClient(apikey=\"7afaa1a443804adc946ef60771c96b60\")\n"
      ]
    },
    {
      "cell_type": "code",
      "execution_count": null,
      "metadata": {
        "id": "Qga8s5hi5NEQ",
        "outputId": "37c8591d-34da-4311-d7aa-b4dd1499cd65"
      },
      "outputs": [
        {
          "data": {
            "text/html": [
              "<div>\n",
              "<style scoped>\n",
              "    .dataframe tbody tr th:only-of-type {\n",
              "        vertical-align: middle;\n",
              "    }\n",
              "\n",
              "    .dataframe tbody tr th {\n",
              "        vertical-align: top;\n",
              "    }\n",
              "\n",
              "    .dataframe thead th {\n",
              "        text-align: right;\n",
              "    }\n",
              "</style>\n",
              "<table border=\"1\" class=\"dataframe\">\n",
              "  <thead>\n",
              "    <tr style=\"text-align: right;\">\n",
              "      <th></th>\n",
              "      <th>symbol</th>\n",
              "      <th>name</th>\n",
              "      <th>country</th>\n",
              "      <th>currency</th>\n",
              "      <th>exchange</th>\n",
              "      <th>mic_code</th>\n",
              "    </tr>\n",
              "  </thead>\n",
              "  <tbody>\n",
              "    <tr>\n",
              "      <th>0</th>\n",
              "      <td>00000020</td>\n",
              "      <td>BOLSA BILBAO INDEX</td>\n",
              "      <td>Spain</td>\n",
              "      <td>EUR</td>\n",
              "      <td>BME</td>\n",
              "      <td>XBIL</td>\n",
              "    </tr>\n",
              "    <tr>\n",
              "      <th>1</th>\n",
              "      <td>000001</td>\n",
              "      <td>SSE Composite Index</td>\n",
              "      <td>China</td>\n",
              "      <td>CNY</td>\n",
              "      <td>SSE</td>\n",
              "      <td>XSHG</td>\n",
              "    </tr>\n",
              "    <tr>\n",
              "      <th>2</th>\n",
              "      <td>000002</td>\n",
              "      <td>SSE A Share Index</td>\n",
              "      <td>China</td>\n",
              "      <td>CNY</td>\n",
              "      <td>SSE</td>\n",
              "      <td>XSHG</td>\n",
              "    </tr>\n",
              "    <tr>\n",
              "      <th>3</th>\n",
              "      <td>000003</td>\n",
              "      <td>SSE B Share Index</td>\n",
              "      <td>China</td>\n",
              "      <td>USD</td>\n",
              "      <td>SSE</td>\n",
              "      <td>XSHG</td>\n",
              "    </tr>\n",
              "    <tr>\n",
              "      <th>4</th>\n",
              "      <td>000004</td>\n",
              "      <td>SSE Industrial Index</td>\n",
              "      <td>China</td>\n",
              "      <td>CNY</td>\n",
              "      <td>SSE</td>\n",
              "      <td>XSHG</td>\n",
              "    </tr>\n",
              "    <tr>\n",
              "      <th>...</th>\n",
              "      <td>...</td>\n",
              "      <td>...</td>\n",
              "      <td>...</td>\n",
              "      <td>...</td>\n",
              "      <td>...</td>\n",
              "      <td>...</td>\n",
              "    </tr>\n",
              "    <tr>\n",
              "      <th>1928</th>\n",
              "      <td>XU100</td>\n",
              "      <td>BIST 100</td>\n",
              "      <td>Turkey</td>\n",
              "      <td>TRY</td>\n",
              "      <td>BIST</td>\n",
              "      <td>XIST</td>\n",
              "    </tr>\n",
              "    <tr>\n",
              "      <th>1929</th>\n",
              "      <td>YT</td>\n",
              "      <td>BMV-DIV RT</td>\n",
              "      <td>Mexico</td>\n",
              "      <td>MXN</td>\n",
              "      <td>BMV</td>\n",
              "      <td>XMEX</td>\n",
              "    </tr>\n",
              "    <tr>\n",
              "      <th>1930</th>\n",
              "      <td>Z203C</td>\n",
              "      <td>AEX/CITI P-WT OPEN</td>\n",
              "      <td>Netherlands</td>\n",
              "      <td>EUR</td>\n",
              "      <td>Euronext</td>\n",
              "      <td>XAMS</td>\n",
              "    </tr>\n",
              "    <tr>\n",
              "      <th>1931</th>\n",
              "      <td>Z544B</td>\n",
              "      <td>SOGEN/BNP WT 17</td>\n",
              "      <td>Netherlands</td>\n",
              "      <td>EUR</td>\n",
              "      <td>Euronext</td>\n",
              "      <td>XAMS</td>\n",
              "    </tr>\n",
              "    <tr>\n",
              "      <th>1932</th>\n",
              "      <td>ZT</td>\n",
              "      <td>IMBBZRT</td>\n",
              "      <td>Mexico</td>\n",
              "      <td>MXN</td>\n",
              "      <td>BMV</td>\n",
              "      <td>XMEX</td>\n",
              "    </tr>\n",
              "  </tbody>\n",
              "</table>\n",
              "<p>1933 rows × 6 columns</p>\n",
              "</div>"
            ],
            "text/plain": [
              "        symbol                  name      country currency  exchange mic_code\n",
              "0     00000020    BOLSA BILBAO INDEX        Spain      EUR       BME     XBIL\n",
              "1       000001   SSE Composite Index        China      CNY       SSE     XSHG\n",
              "2       000002     SSE A Share Index        China      CNY       SSE     XSHG\n",
              "3       000003     SSE B Share Index        China      USD       SSE     XSHG\n",
              "4       000004  SSE Industrial Index        China      CNY       SSE     XSHG\n",
              "...        ...                   ...          ...      ...       ...      ...\n",
              "1928     XU100              BIST 100       Turkey      TRY      BIST     XIST\n",
              "1929        YT            BMV-DIV RT       Mexico      MXN       BMV     XMEX\n",
              "1930     Z203C    AEX/CITI P-WT OPEN  Netherlands      EUR  Euronext     XAMS\n",
              "1931     Z544B       SOGEN/BNP WT 17  Netherlands      EUR  Euronext     XAMS\n",
              "1932        ZT               IMBBZRT       Mexico      MXN       BMV     XMEX\n",
              "\n",
              "[1933 rows x 6 columns]"
            ]
          },
          "execution_count": 160,
          "metadata": {},
          "output_type": "execute_result"
        }
      ],
      "source": [
        "ind1 = td.get_indices_list().as_json()\n",
        "type(ind1)\n",
        "indices = pd.DataFrame(ind1)\n",
        "indices\n",
        "\n",
        "\n"
      ]
    },
    {
      "cell_type": "code",
      "execution_count": null,
      "metadata": {
        "id": "gQ1AaH8O5NER",
        "outputId": "d83ab3e7-526a-47b0-f406-3906b3ed52b1"
      },
      "outputs": [
        {
          "ename": "KeyError",
          "evalue": "'currency'",
          "output_type": "error",
          "traceback": [
            "\u001b[0;31m---------------------------------------------------------------------------\u001b[0m",
            "\u001b[0;31mKeyError\u001b[0m                                  Traceback (most recent call last)",
            "File \u001b[0;32m~/Library/Python/3.9/lib/python/site-packages/pandas/core/indexes/base.py:3803\u001b[0m, in \u001b[0;36mIndex.get_loc\u001b[0;34m(self, key, method, tolerance)\u001b[0m\n\u001b[1;32m   3802\u001b[0m \u001b[39mtry\u001b[39;00m:\n\u001b[0;32m-> 3803\u001b[0m     \u001b[39mreturn\u001b[39;00m \u001b[39mself\u001b[39;49m\u001b[39m.\u001b[39;49m_engine\u001b[39m.\u001b[39;49mget_loc(casted_key)\n\u001b[1;32m   3804\u001b[0m \u001b[39mexcept\u001b[39;00m \u001b[39mKeyError\u001b[39;00m \u001b[39mas\u001b[39;00m err:\n",
            "File \u001b[0;32m~/Library/Python/3.9/lib/python/site-packages/pandas/_libs/index.pyx:138\u001b[0m, in \u001b[0;36mpandas._libs.index.IndexEngine.get_loc\u001b[0;34m()\u001b[0m\n",
            "File \u001b[0;32m~/Library/Python/3.9/lib/python/site-packages/pandas/_libs/index.pyx:165\u001b[0m, in \u001b[0;36mpandas._libs.index.IndexEngine.get_loc\u001b[0;34m()\u001b[0m\n",
            "File \u001b[0;32mpandas/_libs/hashtable_class_helper.pxi:5745\u001b[0m, in \u001b[0;36mpandas._libs.hashtable.PyObjectHashTable.get_item\u001b[0;34m()\u001b[0m\n",
            "File \u001b[0;32mpandas/_libs/hashtable_class_helper.pxi:5753\u001b[0m, in \u001b[0;36mpandas._libs.hashtable.PyObjectHashTable.get_item\u001b[0;34m()\u001b[0m\n",
            "\u001b[0;31mKeyError\u001b[0m: 'currency'",
            "\nThe above exception was the direct cause of the following exception:\n",
            "\u001b[0;31mKeyError\u001b[0m                                  Traceback (most recent call last)",
            "Cell \u001b[0;32mIn [161], line 1\u001b[0m\n\u001b[0;32m----> 1\u001b[0m df[df[\u001b[39m'\u001b[39;49m\u001b[39mcurrency\u001b[39;49m\u001b[39m'\u001b[39;49m]\u001b[39m==\u001b[39m\u001b[39m'\u001b[39m\u001b[39mUSD\u001b[39m\u001b[39m'\u001b[39m]\n",
            "File \u001b[0;32m~/Library/Python/3.9/lib/python/site-packages/pandas/core/frame.py:3805\u001b[0m, in \u001b[0;36mDataFrame.__getitem__\u001b[0;34m(self, key)\u001b[0m\n\u001b[1;32m   3803\u001b[0m \u001b[39mif\u001b[39;00m \u001b[39mself\u001b[39m\u001b[39m.\u001b[39mcolumns\u001b[39m.\u001b[39mnlevels \u001b[39m>\u001b[39m \u001b[39m1\u001b[39m:\n\u001b[1;32m   3804\u001b[0m     \u001b[39mreturn\u001b[39;00m \u001b[39mself\u001b[39m\u001b[39m.\u001b[39m_getitem_multilevel(key)\n\u001b[0;32m-> 3805\u001b[0m indexer \u001b[39m=\u001b[39m \u001b[39mself\u001b[39;49m\u001b[39m.\u001b[39;49mcolumns\u001b[39m.\u001b[39;49mget_loc(key)\n\u001b[1;32m   3806\u001b[0m \u001b[39mif\u001b[39;00m is_integer(indexer):\n\u001b[1;32m   3807\u001b[0m     indexer \u001b[39m=\u001b[39m [indexer]\n",
            "File \u001b[0;32m~/Library/Python/3.9/lib/python/site-packages/pandas/core/indexes/base.py:3805\u001b[0m, in \u001b[0;36mIndex.get_loc\u001b[0;34m(self, key, method, tolerance)\u001b[0m\n\u001b[1;32m   3803\u001b[0m     \u001b[39mreturn\u001b[39;00m \u001b[39mself\u001b[39m\u001b[39m.\u001b[39m_engine\u001b[39m.\u001b[39mget_loc(casted_key)\n\u001b[1;32m   3804\u001b[0m \u001b[39mexcept\u001b[39;00m \u001b[39mKeyError\u001b[39;00m \u001b[39mas\u001b[39;00m err:\n\u001b[0;32m-> 3805\u001b[0m     \u001b[39mraise\u001b[39;00m \u001b[39mKeyError\u001b[39;00m(key) \u001b[39mfrom\u001b[39;00m \u001b[39merr\u001b[39;00m\n\u001b[1;32m   3806\u001b[0m \u001b[39mexcept\u001b[39;00m \u001b[39mTypeError\u001b[39;00m:\n\u001b[1;32m   3807\u001b[0m     \u001b[39m# If we have a listlike key, _check_indexing_error will raise\u001b[39;00m\n\u001b[1;32m   3808\u001b[0m     \u001b[39m#  InvalidIndexError. Otherwise we fall through and re-raise\u001b[39;00m\n\u001b[1;32m   3809\u001b[0m     \u001b[39m#  the TypeError.\u001b[39;00m\n\u001b[1;32m   3810\u001b[0m     \u001b[39mself\u001b[39m\u001b[39m.\u001b[39m_check_indexing_error(key)\n",
            "\u001b[0;31mKeyError\u001b[0m: 'currency'"
          ]
        }
      ],
      "source": [
        "df[df['currency']=='USD']"
      ]
    },
    {
      "cell_type": "code",
      "execution_count": null,
      "metadata": {
        "id": "F0dt992C5NER",
        "outputId": "a0f3f4ee-1eba-46b8-b332-e26853eef5e5"
      },
      "outputs": [
        {
          "data": {
            "text/html": [
              "<div>\n",
              "<style scoped>\n",
              "    .dataframe tbody tr th:only-of-type {\n",
              "        vertical-align: middle;\n",
              "    }\n",
              "\n",
              "    .dataframe tbody tr th {\n",
              "        vertical-align: top;\n",
              "    }\n",
              "\n",
              "    .dataframe thead th {\n",
              "        text-align: right;\n",
              "    }\n",
              "</style>\n",
              "<table border=\"1\" class=\"dataframe\">\n",
              "  <thead>\n",
              "    <tr style=\"text-align: right;\">\n",
              "      <th></th>\n",
              "      <th>symbol</th>\n",
              "      <th>name</th>\n",
              "      <th>country</th>\n",
              "      <th>currency</th>\n",
              "      <th>exchange</th>\n",
              "      <th>mic_code</th>\n",
              "    </tr>\n",
              "  </thead>\n",
              "  <tbody>\n",
              "    <tr>\n",
              "      <th>867</th>\n",
              "      <td>CRSLDX</td>\n",
              "      <td>NIFTY 500</td>\n",
              "      <td>India</td>\n",
              "      <td>INR</td>\n",
              "      <td>NSE</td>\n",
              "      <td>XNSE</td>\n",
              "    </tr>\n",
              "    <tr>\n",
              "      <th>1597</th>\n",
              "      <td>NSEI</td>\n",
              "      <td>NIFTY 50</td>\n",
              "      <td>India</td>\n",
              "      <td>INR</td>\n",
              "      <td>NSE</td>\n",
              "      <td>XNSE</td>\n",
              "    </tr>\n",
              "  </tbody>\n",
              "</table>\n",
              "</div>"
            ],
            "text/plain": [
              "      symbol       name country currency exchange mic_code\n",
              "867   CRSLDX  NIFTY 500   India      INR      NSE     XNSE\n",
              "1597    NSEI   NIFTY 50   India      INR      NSE     XNSE"
            ]
          },
          "execution_count": 117,
          "metadata": {},
          "output_type": "execute_result"
        }
      ],
      "source": [
        "df[ (df['name'].str.startswith('NIFTY 50')) & (df['exchange']=='NSE') ]"
      ]
    },
    {
      "cell_type": "code",
      "execution_count": null,
      "metadata": {
        "id": "6Sa_wpYk5NER",
        "outputId": "d02b75fc-b448-4948-c88b-99cf58ea9d94"
      },
      "outputs": [
        {
          "data": {
            "text/html": [
              "<div>\n",
              "<style scoped>\n",
              "    .dataframe tbody tr th:only-of-type {\n",
              "        vertical-align: middle;\n",
              "    }\n",
              "\n",
              "    .dataframe tbody tr th {\n",
              "        vertical-align: top;\n",
              "    }\n",
              "\n",
              "    .dataframe thead th {\n",
              "        text-align: right;\n",
              "    }\n",
              "</style>\n",
              "<table border=\"1\" class=\"dataframe\">\n",
              "  <thead>\n",
              "    <tr style=\"text-align: right;\">\n",
              "      <th></th>\n",
              "      <th>symbol</th>\n",
              "      <th>name</th>\n",
              "      <th>country</th>\n",
              "      <th>currency</th>\n",
              "      <th>exchange</th>\n",
              "      <th>mic_code</th>\n",
              "    </tr>\n",
              "  </thead>\n",
              "  <tbody>\n",
              "    <tr>\n",
              "      <th>660</th>\n",
              "      <td>ASNZ16</td>\n",
              "      <td>mini MSCI EM Asia NTR Index Fut</td>\n",
              "      <td>United States</td>\n",
              "      <td>USD</td>\n",
              "      <td>ICE</td>\n",
              "      <td>NYBOT</td>\n",
              "    </tr>\n",
              "    <tr>\n",
              "      <th>669</th>\n",
              "      <td>AVSPY</td>\n",
              "      <td>AAPL Alpha Index</td>\n",
              "      <td>United States</td>\n",
              "      <td>USD</td>\n",
              "      <td>NASDAQ</td>\n",
              "      <td>XNMS</td>\n",
              "    </tr>\n",
              "    <tr>\n",
              "      <th>750</th>\n",
              "      <td>BPX</td>\n",
              "      <td>ISE British Pound FX Index</td>\n",
              "      <td>United States</td>\n",
              "      <td>USD</td>\n",
              "      <td>NASDAQ</td>\n",
              "      <td>XNMS</td>\n",
              "    </tr>\n",
              "    <tr>\n",
              "      <th>877</th>\n",
              "      <td>DJCI</td>\n",
              "      <td>Dow Jones Commodity Index</td>\n",
              "      <td>United States</td>\n",
              "      <td>USD</td>\n",
              "      <td>NASDAQ</td>\n",
              "      <td>XNCM</td>\n",
              "    </tr>\n",
              "    <tr>\n",
              "      <th>878</th>\n",
              "      <td>DJCICL</td>\n",
              "      <td>Dow Jones Commodity Index Crude</td>\n",
              "      <td>United States</td>\n",
              "      <td>USD</td>\n",
              "      <td>NASDAQ</td>\n",
              "      <td>XNCM</td>\n",
              "    </tr>\n",
              "    <tr>\n",
              "      <th>...</th>\n",
              "      <td>...</td>\n",
              "      <td>...</td>\n",
              "      <td>...</td>\n",
              "      <td>...</td>\n",
              "      <td>...</td>\n",
              "      <td>...</td>\n",
              "    </tr>\n",
              "    <tr>\n",
              "      <th>1909</th>\n",
              "      <td>W5000</td>\n",
              "      <td>Wilshire 5000 Total Market Inde</td>\n",
              "      <td>United States</td>\n",
              "      <td>USD</td>\n",
              "      <td>NYSE</td>\n",
              "      <td>XNYS</td>\n",
              "    </tr>\n",
              "    <tr>\n",
              "      <th>1916</th>\n",
              "      <td>XAU</td>\n",
              "      <td>PHLX GOLD  and  SILVER SECTOR I</td>\n",
              "      <td>United States</td>\n",
              "      <td>USD</td>\n",
              "      <td>NASDAQ</td>\n",
              "      <td>XNMS</td>\n",
              "    </tr>\n",
              "    <tr>\n",
              "      <th>1924</th>\n",
              "      <td>XNDX</td>\n",
              "      <td>NASDAQ 100 Total Return Index</td>\n",
              "      <td>United States</td>\n",
              "      <td>USD</td>\n",
              "      <td>NASDAQ</td>\n",
              "      <td>XNMS</td>\n",
              "    </tr>\n",
              "    <tr>\n",
              "      <th>1925</th>\n",
              "      <td>XOI</td>\n",
              "      <td>NYSE Arca Oil Index</td>\n",
              "      <td>United States</td>\n",
              "      <td>USD</td>\n",
              "      <td>NYSE</td>\n",
              "      <td>XNYS</td>\n",
              "    </tr>\n",
              "    <tr>\n",
              "      <th>1926</th>\n",
              "      <td>XSP</td>\n",
              "      <td>S&amp;P 500 MINI SPX OPTIONS INDEX</td>\n",
              "      <td>United States</td>\n",
              "      <td>USD</td>\n",
              "      <td>CBOE</td>\n",
              "      <td>BATS</td>\n",
              "    </tr>\n",
              "  </tbody>\n",
              "</table>\n",
              "<p>184 rows × 6 columns</p>\n",
              "</div>"
            ],
            "text/plain": [
              "      symbol                             name        country currency  \\\n",
              "660   ASNZ16  mini MSCI EM Asia NTR Index Fut  United States      USD   \n",
              "669    AVSPY                 AAPL Alpha Index  United States      USD   \n",
              "750      BPX       ISE British Pound FX Index  United States      USD   \n",
              "877     DJCI        Dow Jones Commodity Index  United States      USD   \n",
              "878   DJCICL  Dow Jones Commodity Index Crude  United States      USD   \n",
              "...      ...                              ...            ...      ...   \n",
              "1909   W5000  Wilshire 5000 Total Market Inde  United States      USD   \n",
              "1916     XAU  PHLX GOLD  and  SILVER SECTOR I  United States      USD   \n",
              "1924    XNDX    NASDAQ 100 Total Return Index  United States      USD   \n",
              "1925     XOI              NYSE Arca Oil Index  United States      USD   \n",
              "1926     XSP   S&P 500 MINI SPX OPTIONS INDEX  United States      USD   \n",
              "\n",
              "     exchange mic_code  \n",
              "660       ICE    NYBOT  \n",
              "669    NASDAQ     XNMS  \n",
              "750    NASDAQ     XNMS  \n",
              "877    NASDAQ     XNCM  \n",
              "878    NASDAQ     XNCM  \n",
              "...       ...      ...  \n",
              "1909     NYSE     XNYS  \n",
              "1916   NASDAQ     XNMS  \n",
              "1924   NASDAQ     XNMS  \n",
              "1925     NYSE     XNYS  \n",
              "1926     CBOE     BATS  \n",
              "\n",
              "[184 rows x 6 columns]"
            ]
          },
          "execution_count": 118,
          "metadata": {},
          "output_type": "execute_result"
        }
      ],
      "source": [
        "df[(df['country']=='United States') & (df['currency']=='USD')]"
      ]
    },
    {
      "cell_type": "code",
      "execution_count": null,
      "metadata": {
        "id": "f0zimeu_5NER",
        "outputId": "98fe41c4-7eb1-458d-9f3e-9b7ba3f7c21d"
      },
      "outputs": [
        {
          "name": "stdout",
          "output_type": "stream",
          "text": [
            "<bound method TDClient.get_indices_list of <twelvedata.client.TDClient object at 0x169af03d0>>\n"
          ]
        },
        {
          "data": {
            "text/html": [
              "<div>\n",
              "<style scoped>\n",
              "    .dataframe tbody tr th:only-of-type {\n",
              "        vertical-align: middle;\n",
              "    }\n",
              "\n",
              "    .dataframe tbody tr th {\n",
              "        vertical-align: top;\n",
              "    }\n",
              "\n",
              "    .dataframe thead th {\n",
              "        text-align: right;\n",
              "    }\n",
              "</style>\n",
              "<table border=\"1\" class=\"dataframe\">\n",
              "  <thead>\n",
              "    <tr style=\"text-align: right;\">\n",
              "      <th></th>\n",
              "      <th>open</th>\n",
              "      <th>high</th>\n",
              "      <th>low</th>\n",
              "      <th>close</th>\n",
              "      <th>volume</th>\n",
              "      <th>rsi</th>\n",
              "      <th>linearreg</th>\n",
              "      <th>upper_band</th>\n",
              "      <th>middle_band</th>\n",
              "      <th>lower_band</th>\n",
              "      <th>fast_k</th>\n",
              "      <th>fast_d</th>\n",
              "    </tr>\n",
              "  </thead>\n",
              "  <tbody>\n",
              "    <tr>\n",
              "      <th>2023-02-01</th>\n",
              "      <td>17811.59961</td>\n",
              "      <td>17971.50000</td>\n",
              "      <td>17353.80078</td>\n",
              "      <td>17605.40039</td>\n",
              "      <td>0</td>\n",
              "      <td>36.21778</td>\n",
              "      <td>17561.05330</td>\n",
              "      <td>18273.93694</td>\n",
              "      <td>17925.95234</td>\n",
              "      <td>17577.96775</td>\n",
              "      <td>0.00000</td>\n",
              "      <td>41.50267</td>\n",
              "    </tr>\n",
              "    <tr>\n",
              "      <th>2023-01-31</th>\n",
              "      <td>17731.44922</td>\n",
              "      <td>17735.69922</td>\n",
              "      <td>17537.55078</td>\n",
              "      <td>17662.15039</td>\n",
              "      <td>398300</td>\n",
              "      <td>37.72321</td>\n",
              "      <td>17629.71988</td>\n",
              "      <td>18297.03021</td>\n",
              "      <td>17957.30986</td>\n",
              "      <td>17617.58952</td>\n",
              "      <td>100.00000</td>\n",
              "      <td>41.50267</td>\n",
              "    </tr>\n",
              "    <tr>\n",
              "      <th>2023-01-30</th>\n",
              "      <td>17541.94922</td>\n",
              "      <td>17709.15039</td>\n",
              "      <td>17405.55078</td>\n",
              "      <td>17648.94922</td>\n",
              "      <td>432400</td>\n",
              "      <td>37.15900</td>\n",
              "      <td>17727.92400</td>\n",
              "      <td>18310.65408</td>\n",
              "      <td>17984.07480</td>\n",
              "      <td>17657.49553</td>\n",
              "      <td>24.50802</td>\n",
              "      <td>8.16934</td>\n",
              "    </tr>\n",
              "    <tr>\n",
              "      <th>2023-01-27</th>\n",
              "      <td>17877.19922</td>\n",
              "      <td>17884.75000</td>\n",
              "      <td>17493.55078</td>\n",
              "      <td>17604.34961</td>\n",
              "      <td>476300</td>\n",
              "      <td>35.32069</td>\n",
              "      <td>17882.71997</td>\n",
              "      <td>18298.52361</td>\n",
              "      <td>18006.89238</td>\n",
              "      <td>17715.26116</td>\n",
              "      <td>0.00000</td>\n",
              "      <td>33.23829</td>\n",
              "    </tr>\n",
              "    <tr>\n",
              "      <th>2023-01-25</th>\n",
              "      <td>18093.34961</td>\n",
              "      <td>18100.59961</td>\n",
              "      <td>17846.15039</td>\n",
              "      <td>17891.94922</td>\n",
              "      <td>257200</td>\n",
              "      <td>42.82154</td>\n",
              "      <td>18064.12578</td>\n",
              "      <td>18272.82197</td>\n",
              "      <td>18036.22490</td>\n",
              "      <td>17799.62784</td>\n",
              "      <td>0.00000</td>\n",
              "      <td>66.57162</td>\n",
              "    </tr>\n",
              "    <tr>\n",
              "      <th>...</th>\n",
              "      <td>...</td>\n",
              "      <td>...</td>\n",
              "      <td>...</td>\n",
              "      <td>...</td>\n",
              "      <td>...</td>\n",
              "      <td>...</td>\n",
              "      <td>...</td>\n",
              "      <td>...</td>\n",
              "      <td>...</td>\n",
              "      <td>...</td>\n",
              "      <td>...</td>\n",
              "      <td>...</td>\n",
              "    </tr>\n",
              "    <tr>\n",
              "      <th>2022-01-07</th>\n",
              "      <td>17797.59961</td>\n",
              "      <td>17905.00000</td>\n",
              "      <td>17704.55078</td>\n",
              "      <td>17812.69922</td>\n",
              "      <td>239300</td>\n",
              "      <td>61.05375</td>\n",
              "      <td>17933.86094</td>\n",
              "      <td>17970.82573</td>\n",
              "      <td>17278.54482</td>\n",
              "      <td>16586.26392</td>\n",
              "      <td>23.85888</td>\n",
              "      <td>41.28629</td>\n",
              "    </tr>\n",
              "    <tr>\n",
              "      <th>2022-01-06</th>\n",
              "      <td>17768.50000</td>\n",
              "      <td>17797.94922</td>\n",
              "      <td>17655.55078</td>\n",
              "      <td>17745.90039</td>\n",
              "      <td>236500</td>\n",
              "      <td>59.66867</td>\n",
              "      <td>17887.22118</td>\n",
              "      <td>17920.82970</td>\n",
              "      <td>17263.47490</td>\n",
              "      <td>16606.12010</td>\n",
              "      <td>0.00000</td>\n",
              "      <td>66.66667</td>\n",
              "    </tr>\n",
              "    <tr>\n",
              "      <th>2022-01-05</th>\n",
              "      <td>17820.09961</td>\n",
              "      <td>17944.69922</td>\n",
              "      <td>17748.84961</td>\n",
              "      <td>17925.25000</td>\n",
              "      <td>251500</td>\n",
              "      <td>65.47397</td>\n",
              "      <td>17834.67318</td>\n",
              "      <td>17882.80249</td>\n",
              "      <td>17252.02236</td>\n",
              "      <td>16621.24224</td>\n",
              "      <td>100.00000</td>\n",
              "      <td>100.00000</td>\n",
              "    </tr>\n",
              "    <tr>\n",
              "      <th>2022-01-04</th>\n",
              "      <td>17681.40039</td>\n",
              "      <td>17827.59961</td>\n",
              "      <td>17593.55078</td>\n",
              "      <td>17805.25000</td>\n",
              "      <td>247400</td>\n",
              "      <td>63.25271</td>\n",
              "      <td>17642.22760</td>\n",
              "      <td>17790.17761</td>\n",
              "      <td>17229.24736</td>\n",
              "      <td>16668.31712</td>\n",
              "      <td>100.00000</td>\n",
              "      <td>100.00000</td>\n",
              "    </tr>\n",
              "    <tr>\n",
              "      <th>2022-01-03</th>\n",
              "      <td>17387.15039</td>\n",
              "      <td>17646.65039</td>\n",
              "      <td>17383.30078</td>\n",
              "      <td>17625.69922</td>\n",
              "      <td>200500</td>\n",
              "      <td>59.64555</td>\n",
              "      <td>17464.49540</td>\n",
              "      <td>17692.68186</td>\n",
              "      <td>17197.81982</td>\n",
              "      <td>16702.95779</td>\n",
              "      <td>100.00000</td>\n",
              "      <td>66.66667</td>\n",
              "    </tr>\n",
              "  </tbody>\n",
              "</table>\n",
              "<p>271 rows × 12 columns</p>\n",
              "</div>"
            ],
            "text/plain": [
              "                   open         high          low        close  volume  \\\n",
              "2023-02-01  17811.59961  17971.50000  17353.80078  17605.40039       0   \n",
              "2023-01-31  17731.44922  17735.69922  17537.55078  17662.15039  398300   \n",
              "2023-01-30  17541.94922  17709.15039  17405.55078  17648.94922  432400   \n",
              "2023-01-27  17877.19922  17884.75000  17493.55078  17604.34961  476300   \n",
              "2023-01-25  18093.34961  18100.59961  17846.15039  17891.94922  257200   \n",
              "...                 ...          ...          ...          ...     ...   \n",
              "2022-01-07  17797.59961  17905.00000  17704.55078  17812.69922  239300   \n",
              "2022-01-06  17768.50000  17797.94922  17655.55078  17745.90039  236500   \n",
              "2022-01-05  17820.09961  17944.69922  17748.84961  17925.25000  251500   \n",
              "2022-01-04  17681.40039  17827.59961  17593.55078  17805.25000  247400   \n",
              "2022-01-03  17387.15039  17646.65039  17383.30078  17625.69922  200500   \n",
              "\n",
              "                 rsi    linearreg   upper_band  middle_band   lower_band  \\\n",
              "2023-02-01  36.21778  17561.05330  18273.93694  17925.95234  17577.96775   \n",
              "2023-01-31  37.72321  17629.71988  18297.03021  17957.30986  17617.58952   \n",
              "2023-01-30  37.15900  17727.92400  18310.65408  17984.07480  17657.49553   \n",
              "2023-01-27  35.32069  17882.71997  18298.52361  18006.89238  17715.26116   \n",
              "2023-01-25  42.82154  18064.12578  18272.82197  18036.22490  17799.62784   \n",
              "...              ...          ...          ...          ...          ...   \n",
              "2022-01-07  61.05375  17933.86094  17970.82573  17278.54482  16586.26392   \n",
              "2022-01-06  59.66867  17887.22118  17920.82970  17263.47490  16606.12010   \n",
              "2022-01-05  65.47397  17834.67318  17882.80249  17252.02236  16621.24224   \n",
              "2022-01-04  63.25271  17642.22760  17790.17761  17229.24736  16668.31712   \n",
              "2022-01-03  59.64555  17464.49540  17692.68186  17197.81982  16702.95779   \n",
              "\n",
              "               fast_k     fast_d  \n",
              "2023-02-01    0.00000   41.50267  \n",
              "2023-01-31  100.00000   41.50267  \n",
              "2023-01-30   24.50802    8.16934  \n",
              "2023-01-27    0.00000   33.23829  \n",
              "2023-01-25    0.00000   66.57162  \n",
              "...               ...        ...  \n",
              "2022-01-07   23.85888   41.28629  \n",
              "2022-01-06    0.00000   66.66667  \n",
              "2022-01-05  100.00000  100.00000  \n",
              "2022-01-04  100.00000  100.00000  \n",
              "2022-01-03  100.00000   66.66667  \n",
              "\n",
              "[271 rows x 12 columns]"
            ]
          },
          "execution_count": 95,
          "metadata": {},
          "output_type": "execute_result"
        }
      ],
      "source": [
        "from twelvedata import TDClient\n",
        "\n",
        "# Initialize client - apikey parameter is requiered\n",
        "td = TDClient(apikey=\"7afaa1a443804adc946ef60771c96b60\")\n",
        "\n",
        "print(td.get_indices_list)\n",
        "#td.symbol_search(\"NIFTY\")\n",
        "# Construct the necessary time series\n",
        "ts = td.time_series(\n",
        "    symbol=\"NSEI,DJI2MN,XNDX,XOI\",\n",
        "    interval=\"1day\",\n",
        "    start_date=\"2022-01-01\",\n",
        "    outputsize = 500,\n",
        "    end_date=\"2023-02-02\"\n",
        "    )\n",
        "\n",
        "# Returns pandas.DataFrame\n",
        "data_indices=ts.with_rsi().with_linearreg().with_bbands().with_stochrsi().as_pandas()\n",
        "data_indices\n",
        "data_indices.loc['NSEI']\n",
        "\n",
        "\n"
      ]
    },
    {
      "cell_type": "code",
      "execution_count": null,
      "metadata": {
        "id": "j0mtU4lF5NER",
        "outputId": "c5620908-6326-41a0-d197-a4a569925df3"
      },
      "outputs": [
        {
          "data": {
            "text/plain": [
              "2023-02-01    17605.40039\n",
              "2023-01-31    17662.15039\n",
              "2023-01-30    17648.94922\n",
              "2023-01-27    17604.34961\n",
              "2023-01-25    17891.94922\n",
              "                 ...     \n",
              "2022-01-07    17812.69922\n",
              "2022-01-06    17745.90039\n",
              "2022-01-05    17925.25000\n",
              "2022-01-04    17805.25000\n",
              "2022-01-03    17625.69922\n",
              "Name: close, Length: 271, dtype: object"
            ]
          },
          "execution_count": 101,
          "metadata": {},
          "output_type": "execute_result"
        }
      ],
      "source": [
        "data_indices.loc['NSEI']['close']"
      ]
    },
    {
      "cell_type": "code",
      "execution_count": null,
      "metadata": {
        "id": "iJ4K4zvg5NER",
        "outputId": "1dc077dc-7b53-4699-f8e8-fc88c3ed92c0"
      },
      "outputs": [
        {
          "data": {
            "text/html": [
              "<div>\n",
              "<style scoped>\n",
              "    .dataframe tbody tr th:only-of-type {\n",
              "        vertical-align: middle;\n",
              "    }\n",
              "\n",
              "    .dataframe tbody tr th {\n",
              "        vertical-align: top;\n",
              "    }\n",
              "\n",
              "    .dataframe thead th {\n",
              "        text-align: right;\n",
              "    }\n",
              "</style>\n",
              "<table border=\"1\" class=\"dataframe\">\n",
              "  <thead>\n",
              "    <tr style=\"text-align: right;\">\n",
              "      <th></th>\n",
              "      <th>NSEI</th>\n",
              "      <th>NSEI_PREV</th>\n",
              "      <th>rsi</th>\n",
              "      <th>linearreg</th>\n",
              "      <th>DJI2MN</th>\n",
              "      <th>XNDX</th>\n",
              "      <th>XOI</th>\n",
              "    </tr>\n",
              "  </thead>\n",
              "  <tbody>\n",
              "    <tr>\n",
              "      <th>2023-02-01</th>\n",
              "      <td>17662.15039</td>\n",
              "      <td>17604.34961</td>\n",
              "      <td>36.21778</td>\n",
              "      <td>17561.05330</td>\n",
              "      <td>34072.64844</td>\n",
              "      <td>14327.68400</td>\n",
              "      <td>1814.05444</td>\n",
              "    </tr>\n",
              "    <tr>\n",
              "      <th>2023-01-31</th>\n",
              "      <td>17648.94922</td>\n",
              "      <td>17891.94922</td>\n",
              "      <td>37.72321</td>\n",
              "      <td>17629.71988</td>\n",
              "      <td>34073.78906</td>\n",
              "      <td>14291.56200</td>\n",
              "      <td>1860.86438</td>\n",
              "    </tr>\n",
              "    <tr>\n",
              "      <th>2023-01-30</th>\n",
              "      <td>17604.34961</td>\n",
              "      <td>18118.30078</td>\n",
              "      <td>37.15900</td>\n",
              "      <td>17727.92400</td>\n",
              "      <td>33700.57812</td>\n",
              "      <td>14251.44400</td>\n",
              "      <td>1858.79675</td>\n",
              "    </tr>\n",
              "    <tr>\n",
              "      <th>2023-01-27</th>\n",
              "      <td>17891.94922</td>\n",
              "      <td>18118.55078</td>\n",
              "      <td>35.32069</td>\n",
              "      <td>17882.71997</td>\n",
              "      <td>33957.57031</td>\n",
              "      <td>14454.66309</td>\n",
              "      <td>1906.72302</td>\n",
              "    </tr>\n",
              "    <tr>\n",
              "      <th>2023-01-25</th>\n",
              "      <td>18118.30078</td>\n",
              "      <td>18027.65039</td>\n",
              "      <td>42.82154</td>\n",
              "      <td>18064.12578</td>\n",
              "      <td>33712.60156</td>\n",
              "      <td>13912.88900</td>\n",
              "      <td>1881.97302</td>\n",
              "    </tr>\n",
              "    <tr>\n",
              "      <th>...</th>\n",
              "      <td>...</td>\n",
              "      <td>...</td>\n",
              "      <td>...</td>\n",
              "      <td>...</td>\n",
              "      <td>...</td>\n",
              "      <td>...</td>\n",
              "      <td>...</td>\n",
              "    </tr>\n",
              "    <tr>\n",
              "      <th>2022-04-20</th>\n",
              "      <td>16958.65039</td>\n",
              "      <td>17475.65039</td>\n",
              "      <td>45.55126</td>\n",
              "      <td>17054.73607</td>\n",
              "      <td>35160.78906</td>\n",
              "      <td>16516.45898</td>\n",
              "      <td>1653.33545</td>\n",
              "    </tr>\n",
              "    <tr>\n",
              "      <th>2022-04-19</th>\n",
              "      <td>17173.65039</td>\n",
              "      <td>17530.30078</td>\n",
              "      <td>41.10146</td>\n",
              "      <td>17123.87140</td>\n",
              "      <td>34911.19922</td>\n",
              "      <td>16773.50000</td>\n",
              "      <td>1640.59155</td>\n",
              "    </tr>\n",
              "    <tr>\n",
              "      <th>2022-04-18</th>\n",
              "      <td>17475.65039</td>\n",
              "      <td>17674.94922</td>\n",
              "      <td>45.25161</td>\n",
              "      <td>17311.86354</td>\n",
              "      <td>34411.69141</td>\n",
              "      <td>16414.29883</td>\n",
              "      <td>1654.89612</td>\n",
              "    </tr>\n",
              "    <tr>\n",
              "      <th>2022-04-13</th>\n",
              "      <td>17530.30078</td>\n",
              "      <td>17784.34961</td>\n",
              "      <td>52.11525</td>\n",
              "      <td>17536.85365</td>\n",
              "      <td>34570.98047</td>\n",
              "      <td>16778.72461</td>\n",
              "      <td>1627.80847</td>\n",
              "    </tr>\n",
              "    <tr>\n",
              "      <th>2022-04-12</th>\n",
              "      <td>17674.94922</td>\n",
              "      <td>17639.55078</td>\n",
              "      <td>53.47826</td>\n",
              "      <td>17692.73911</td>\n",
              "      <td>34227.64062</td>\n",
              "      <td>16452.34570</td>\n",
              "      <td>1605.06445</td>\n",
              "    </tr>\n",
              "  </tbody>\n",
              "</table>\n",
              "<p>183 rows × 7 columns</p>\n",
              "</div>"
            ],
            "text/plain": [
              "                   NSEI    NSEI_PREV       rsi    linearreg       DJI2MN  \\\n",
              "2023-02-01  17662.15039  17604.34961  36.21778  17561.05330  34072.64844   \n",
              "2023-01-31  17648.94922  17891.94922  37.72321  17629.71988  34073.78906   \n",
              "2023-01-30  17604.34961  18118.30078  37.15900  17727.92400  33700.57812   \n",
              "2023-01-27  17891.94922  18118.55078  35.32069  17882.71997  33957.57031   \n",
              "2023-01-25  18118.30078  18027.65039  42.82154  18064.12578  33712.60156   \n",
              "...                 ...          ...       ...          ...          ...   \n",
              "2022-04-20  16958.65039  17475.65039  45.55126  17054.73607  35160.78906   \n",
              "2022-04-19  17173.65039  17530.30078  41.10146  17123.87140  34911.19922   \n",
              "2022-04-18  17475.65039  17674.94922  45.25161  17311.86354  34411.69141   \n",
              "2022-04-13  17530.30078  17784.34961  52.11525  17536.85365  34570.98047   \n",
              "2022-04-12  17674.94922  17639.55078  53.47826  17692.73911  34227.64062   \n",
              "\n",
              "                   XNDX         XOI  \n",
              "2023-02-01  14327.68400  1814.05444  \n",
              "2023-01-31  14291.56200  1860.86438  \n",
              "2023-01-30  14251.44400  1858.79675  \n",
              "2023-01-27  14454.66309  1906.72302  \n",
              "2023-01-25  13912.88900  1881.97302  \n",
              "...                 ...         ...  \n",
              "2022-04-20  16516.45898  1653.33545  \n",
              "2022-04-19  16773.50000  1640.59155  \n",
              "2022-04-18  16414.29883  1654.89612  \n",
              "2022-04-13  16778.72461  1627.80847  \n",
              "2022-04-12  16452.34570  1605.06445  \n",
              "\n",
              "[183 rows x 7 columns]"
            ]
          },
          "execution_count": 103,
          "metadata": {},
          "output_type": "execute_result"
        }
      ],
      "source": [
        "s1 = data_indices.loc['NSEI']['close']\n",
        "s11 = data_indices.loc['NSEI']['linearreg']\n",
        "s12 = data_indices.loc['NSEI']['rsi']\n",
        "s2= data_indices.loc['DJI2MN']['close']\n",
        "s3 = data_indices.loc['XNDX']['close']\n",
        "s4= data_indices.loc['XOI']['close']\n",
        "s1.rename(\"NSEI\",inplace=True)\n",
        "s2.rename(\"DJI2MN\",inplace=True)\n",
        "s3.rename(\"XNDX\",inplace=True)\n",
        "s4.rename(\"XOI\",inplace=True)\n",
        "\n",
        "\n",
        "final  = pd.concat([s1,s11,s12,s2,s3,s4], axis=1)\n",
        "type(final)\n",
        "final['NSEI']=final['NSEI'].shift(-1)\n",
        "final['NSEI_PREV']=final['NSEI'].shift(-2)\n",
        "# final.rename(columns={'close': 'DJI2MN', 'close': 'DJI2MN','close': 'XNDX','close': 'XOI'}, inplace=False)\n",
        "final.dropna(inplace=True)\n",
        "\n",
        "# Specify the desired order of columns\n",
        "cols = ['NSEI','NSEI_PREV', 'rsi','linearreg','DJI2MN', 'XNDX','XOI']\n",
        "\n",
        "# Reorder the columns in the dataframe\n",
        "final = final.reindex(columns=cols)\n",
        "final\n"
      ]
    },
    {
      "cell_type": "code",
      "execution_count": null,
      "metadata": {
        "id": "vHsattFM5NER",
        "outputId": "5479ad6c-d5f6-4642-852c-d960141f0246"
      },
      "outputs": [
        {
          "name": "stdout",
          "output_type": "stream",
          "text": [
            "NSEI         float64\n",
            "NSEI_PREV    float64\n",
            "rsi          float64\n",
            "linearreg    float64\n",
            "DJI2MN       float64\n",
            "XNDX         float64\n",
            "XOI          float64\n",
            "dtype: object\n",
            "Test Loss: 1682874.375\n",
            "2/2 [==============================] - 0s 1ms/step\n"
          ]
        },
        {
          "data": {
            "text/plain": [
              "array([[16987.354],\n",
              "       [17371.67 ],\n",
              "       [17735.668],\n",
              "       [17851.412],\n",
              "       [17770.855],\n",
              "       [18015.828],\n",
              "       [17723.361],\n",
              "       [17284.947],\n",
              "       [16990.943],\n",
              "       [17120.537],\n",
              "       [17093.494],\n",
              "       [16820.6  ],\n",
              "       [16944.61 ],\n",
              "       [17075.771],\n",
              "       [17359.477],\n",
              "       [17006.654],\n",
              "       [17023.102],\n",
              "       [16617.021],\n",
              "       [16980.947],\n",
              "       [17265.06 ],\n",
              "       [17252.217],\n",
              "       [17681.324],\n",
              "       [17993.143],\n",
              "       [18540.564],\n",
              "       [18437.262],\n",
              "       [18208.432],\n",
              "       [18865.299],\n",
              "       [18256.516],\n",
              "       [18151.367],\n",
              "       [18683.701],\n",
              "       [18679.707],\n",
              "       [18916.688],\n",
              "       [18960.188],\n",
              "       [19211.217],\n",
              "       [19052.424],\n",
              "       [19483.527],\n",
              "       [19460.959]], dtype=float32)"
            ]
          },
          "execution_count": 132,
          "metadata": {},
          "output_type": "execute_result"
        }
      ],
      "source": [
        "import numpy as np\n",
        "import pandas as pd\n",
        "from sklearn.preprocessing import MinMaxScaler\n",
        "from keras.models import Sequential\n",
        "from keras.layers import Dense\n",
        "\n",
        "# Load the stock index data\n",
        "df = final\n",
        "df['NSEI'] = pd.to_numeric(df['NSEI'], errors='coerce')\n",
        "df['NSEI_PREV'] = pd.to_numeric(df['NSEI_PREV'], errors='coerce')\n",
        "df['linearreg'] = pd.to_numeric(df['linearreg'], errors='coerce')\n",
        "df['rsi'] = pd.to_numeric(df['rsi'], errors='coerce')\n",
        "df['DJI2MN'] = pd.to_numeric(df['DJI2MN'], errors='coerce')\n",
        "df['XNDX'] = pd.to_numeric(df['XNDX'], errors='coerce')\n",
        "df['XOI'] = pd.to_numeric(df['XOI'], errors='coerce')\n",
        "print(df.dtypes)\n",
        "\n",
        "\n",
        "# Preprocess the data\n",
        "# scaler = MinMaxScaler()\n",
        "# df = pd.DataFrame(scaler.fit_transform(df), columns=df.columns)\n",
        "\n",
        "# df\n",
        "\n",
        "# Split the data into training and testing sets\n",
        "train_df = df[:int(df.shape[0]*0.8)]\n",
        "test_df = df[int(df.shape[0]*0.8):]\n",
        "\n",
        "# Define the input and output data\n",
        "X_train = train_df.drop('NSEI', axis=1)\n",
        "y_train = train_df['NSEI'].values\n",
        "X_test = test_df.drop('NSEI', axis=1)\n",
        "y_test = test_df['NSEI'].values\n",
        "train_df\n",
        "\n",
        "# # Define the model\n",
        "model = Sequential()\n",
        "#model.add(Dense(16, input_dim=X_train.shape[10], activation='relu'))\n",
        "#model.add(Dense(8, activation='relu'))\n",
        "model.add(Dense(1, activation='linear'))\n",
        "\n",
        "# # Compile the model\n",
        "model.compile(loss='mean_squared_error', optimizer='adam')\n",
        "\n",
        "\n",
        "# # Fit the model to the training data\n",
        "model.fit(X_train, y_train, epochs=100, batch_size=32, verbose=0)\n",
        "\n",
        "# Evaluate the model on the test data\n",
        "test_loss = model.evaluate(X_test, y_test, verbose=0)\n",
        "print('Test Loss:', test_loss)\n",
        "\n",
        "\n",
        "# Use the model to make predictions on new data\n",
        "predictions = model.predict(X_test)\n",
        "predictions"
      ]
    },
    {
      "cell_type": "code",
      "execution_count": null,
      "metadata": {
        "id": "01eUVwbM5NES",
        "outputId": "20922641-adc0-40f7-97be-9101ca5e9f42"
      },
      "outputs": [
        {
          "name": "stdout",
          "output_type": "stream",
          "text": [
            "1/1 [==============================] - 0s 21ms/step\n"
          ]
        },
        {
          "data": {
            "text/plain": [
              "array([[17722.076]], dtype=float32)"
            ]
          },
          "execution_count": 142,
          "metadata": {},
          "output_type": "execute_result"
        }
      ],
      "source": [
        "today = final[:1].drop('NSEI', axis=1)\n",
        "today\n",
        "model.predict(today)\n"
      ]
    },
    {
      "cell_type": "code",
      "execution_count": null,
      "metadata": {
        "id": "AwuoOcvI5NES",
        "outputId": "f3c6137b-2fbf-4084-b699-cf00e5475d02"
      },
      "outputs": [
        {
          "data": {
            "text/html": [
              "<div>\n",
              "<style scoped>\n",
              "    .dataframe tbody tr th:only-of-type {\n",
              "        vertical-align: middle;\n",
              "    }\n",
              "\n",
              "    .dataframe tbody tr th {\n",
              "        vertical-align: top;\n",
              "    }\n",
              "\n",
              "    .dataframe thead th {\n",
              "        text-align: right;\n",
              "    }\n",
              "</style>\n",
              "<table border=\"1\" class=\"dataframe\">\n",
              "  <thead>\n",
              "    <tr style=\"text-align: right;\">\n",
              "      <th></th>\n",
              "      <th>NSEI</th>\n",
              "      <th>NSEI_PREV</th>\n",
              "      <th>rsi</th>\n",
              "      <th>linearreg</th>\n",
              "      <th>DJI2MN</th>\n",
              "      <th>XNDX</th>\n",
              "      <th>XOI</th>\n",
              "    </tr>\n",
              "  </thead>\n",
              "  <tbody>\n",
              "    <tr>\n",
              "      <th>2023-02-01</th>\n",
              "      <td>17662.15039</td>\n",
              "      <td>17604.34961</td>\n",
              "      <td>36.21778</td>\n",
              "      <td>17561.05330</td>\n",
              "      <td>34072.64844</td>\n",
              "      <td>14327.684</td>\n",
              "      <td>1814.05444</td>\n",
              "    </tr>\n",
              "    <tr>\n",
              "      <th>2023-01-31</th>\n",
              "      <td>17648.94922</td>\n",
              "      <td>17891.94922</td>\n",
              "      <td>37.72321</td>\n",
              "      <td>17629.71988</td>\n",
              "      <td>34073.78906</td>\n",
              "      <td>14291.562</td>\n",
              "      <td>1860.86438</td>\n",
              "    </tr>\n",
              "    <tr>\n",
              "      <th>2023-01-30</th>\n",
              "      <td>17604.34961</td>\n",
              "      <td>18118.30078</td>\n",
              "      <td>37.15900</td>\n",
              "      <td>17727.92400</td>\n",
              "      <td>33700.57812</td>\n",
              "      <td>14251.444</td>\n",
              "      <td>1858.79675</td>\n",
              "    </tr>\n",
              "  </tbody>\n",
              "</table>\n",
              "</div>"
            ],
            "text/plain": [
              "                   NSEI    NSEI_PREV       rsi    linearreg       DJI2MN  \\\n",
              "2023-02-01  17662.15039  17604.34961  36.21778  17561.05330  34072.64844   \n",
              "2023-01-31  17648.94922  17891.94922  37.72321  17629.71988  34073.78906   \n",
              "2023-01-30  17604.34961  18118.30078  37.15900  17727.92400  33700.57812   \n",
              "\n",
              "                 XNDX         XOI  \n",
              "2023-02-01  14327.684  1814.05444  \n",
              "2023-01-31  14291.562  1860.86438  \n",
              "2023-01-30  14251.444  1858.79675  "
            ]
          },
          "execution_count": 141,
          "metadata": {},
          "output_type": "execute_result"
        }
      ],
      "source": [
        "final[:3]"
      ]
    },
    {
      "cell_type": "code",
      "execution_count": null,
      "metadata": {
        "id": "xIjC-NrL5NES",
        "outputId": "082d9ca0-c4f8-46e3-a38f-f1cb54f03c0f"
      },
      "outputs": [
        {
          "data": {
            "text/html": [
              "<div>\n",
              "<style scoped>\n",
              "    .dataframe tbody tr th:only-of-type {\n",
              "        vertical-align: middle;\n",
              "    }\n",
              "\n",
              "    .dataframe tbody tr th {\n",
              "        vertical-align: top;\n",
              "    }\n",
              "\n",
              "    .dataframe thead th {\n",
              "        text-align: right;\n",
              "    }\n",
              "</style>\n",
              "<table border=\"1\" class=\"dataframe\">\n",
              "  <thead>\n",
              "    <tr style=\"text-align: right;\">\n",
              "      <th></th>\n",
              "      <th>0</th>\n",
              "      <th>0</th>\n",
              "      <th>0</th>\n",
              "      <th>1</th>\n",
              "      <th>2</th>\n",
              "    </tr>\n",
              "  </thead>\n",
              "  <tbody>\n",
              "    <tr>\n",
              "      <th>0</th>\n",
              "      <td>17224.824219</td>\n",
              "      <td>16478.09961</td>\n",
              "      <td>31459.35938</td>\n",
              "      <td>13985.11523</td>\n",
              "      <td>1831.63354</td>\n",
              "    </tr>\n",
              "    <tr>\n",
              "      <th>1</th>\n",
              "      <td>17733.884766</td>\n",
              "      <td>16356.25000</td>\n",
              "      <td>32291.97070</td>\n",
              "      <td>14501.16992</td>\n",
              "      <td>1859.48779</td>\n",
              "    </tr>\n",
              "    <tr>\n",
              "      <th>2</th>\n",
              "      <td>18129.195312</td>\n",
              "      <td>16416.34961</td>\n",
              "      <td>32900.55078</td>\n",
              "      <td>14933.62800</td>\n",
              "      <td>1897.65796</td>\n",
              "    </tr>\n",
              "    <tr>\n",
              "      <th>3</th>\n",
              "      <td>18245.708984</td>\n",
              "      <td>16569.55078</td>\n",
              "      <td>33176.10938</td>\n",
              "      <td>14970.48500</td>\n",
              "      <td>1899.65955</td>\n",
              "    </tr>\n",
              "    <tr>\n",
              "      <th>4</th>\n",
              "      <td>18018.689453</td>\n",
              "      <td>16584.55078</td>\n",
              "      <td>32836.19141</td>\n",
              "      <td>14730.85059</td>\n",
              "      <td>1820.53369</td>\n",
              "    </tr>\n",
              "    <tr>\n",
              "      <th>5</th>\n",
              "      <td>18158.039062</td>\n",
              "      <td>16661.40039</td>\n",
              "      <td>33000.80859</td>\n",
              "      <td>14945.87793</td>\n",
              "      <td>1789.43689</td>\n",
              "    </tr>\n",
              "    <tr>\n",
              "      <th>6</th>\n",
              "      <td>18238.486328</td>\n",
              "      <td>16170.15039</td>\n",
              "      <td>33173.44922</td>\n",
              "      <td>14983.81738</td>\n",
              "      <td>1805.54236</td>\n",
              "    </tr>\n",
              "    <tr>\n",
              "      <th>7</th>\n",
              "      <td>17847.000000</td>\n",
              "      <td>16025.79980</td>\n",
              "      <td>32627.03906</td>\n",
              "      <td>14499.79688</td>\n",
              "      <td>1770.97205</td>\n",
              "    </tr>\n",
              "    <tr>\n",
              "      <th>8</th>\n",
              "      <td>17505.417969</td>\n",
              "      <td>16125.15039</td>\n",
              "      <td>32116.68945</td>\n",
              "      <td>14106.58887</td>\n",
              "      <td>1752.08118</td>\n",
              "    </tr>\n",
              "    <tr>\n",
              "      <th>9</th>\n",
              "      <td>17345.783203</td>\n",
              "      <td>16214.70020</td>\n",
              "      <td>31911.99023</td>\n",
              "      <td>13899.74512</td>\n",
              "      <td>1712.21729</td>\n",
              "    </tr>\n",
              "    <tr>\n",
              "      <th>10</th>\n",
              "      <td>17446.199219</td>\n",
              "      <td>16266.15039</td>\n",
              "      <td>31856.41016</td>\n",
              "      <td>14217.61328</td>\n",
              "      <td>1710.26050</td>\n",
              "    </tr>\n",
              "    <tr>\n",
              "      <th>11</th>\n",
              "      <td>17127.404297</td>\n",
              "      <td>15809.40039</td>\n",
              "      <td>31248.25000</td>\n",
              "      <td>13988.01465</td>\n",
              "      <td>1663.52539</td>\n",
              "    </tr>\n",
              "    <tr>\n",
              "      <th>12</th>\n",
              "      <td>17148.353516</td>\n",
              "      <td>16240.29980</td>\n",
              "      <td>31260.40039</td>\n",
              "      <td>14031.77441</td>\n",
              "      <td>1661.43481</td>\n",
              "    </tr>\n",
              "    <tr>\n",
              "      <th>13</th>\n",
              "      <td>17255.103516</td>\n",
              "      <td>16259.29980</td>\n",
              "      <td>31464.43945</td>\n",
              "      <td>14113.38500</td>\n",
              "      <td>1660.86609</td>\n",
              "    </tr>\n",
              "    <tr>\n",
              "      <th>14</th>\n",
              "      <td>17920.197266</td>\n",
              "      <td>15842.29980</td>\n",
              "      <td>32621.17969</td>\n",
              "      <td>14718.12800</td>\n",
              "      <td>1705.09143</td>\n",
              "    </tr>\n",
              "    <tr>\n",
              "      <th>15</th>\n",
              "      <td>17722.564453</td>\n",
              "      <td>15782.15039</td>\n",
              "      <td>32191.83008</td>\n",
              "      <td>14622.01500</td>\n",
              "      <td>1690.90125</td>\n",
              "    </tr>\n",
              "    <tr>\n",
              "      <th>16</th>\n",
              "      <td>17721.316406</td>\n",
              "      <td>15808.00000</td>\n",
              "      <td>32166.06055</td>\n",
              "      <td>14654.00100</td>\n",
              "      <td>1658.55835</td>\n",
              "    </tr>\n",
              "    <tr>\n",
              "      <th>17</th>\n",
              "      <td>17280.005859</td>\n",
              "      <td>16167.09961</td>\n",
              "      <td>31671.33008</td>\n",
              "      <td>13996.74100</td>\n",
              "      <td>1599.83679</td>\n",
              "    </tr>\n",
              "    <tr>\n",
              "      <th>18</th>\n",
              "      <td>17461.685547</td>\n",
              "      <td>16240.04980</td>\n",
              "      <td>31834.10938</td>\n",
              "      <td>14314.10700</td>\n",
              "      <td>1601.73242</td>\n",
              "    </tr>\n",
              "    <tr>\n",
              "      <th>19</th>\n",
              "      <td>17721.285156</td>\n",
              "      <td>16301.84961</td>\n",
              "      <td>32160.74023</td>\n",
              "      <td>14682.48600</td>\n",
              "      <td>1584.34131</td>\n",
              "    </tr>\n",
              "    <tr>\n",
              "      <th>20</th>\n",
              "      <td>17673.291016</td>\n",
              "      <td>16411.25000</td>\n",
              "      <td>32245.69922</td>\n",
              "      <td>14477.87900</td>\n",
              "      <td>1572.26648</td>\n",
              "    </tr>\n",
              "    <tr>\n",
              "      <th>21</th>\n",
              "      <td>18139.328125</td>\n",
              "      <td>16682.65039</td>\n",
              "      <td>32903.78906</td>\n",
              "      <td>15015.70600</td>\n",
              "      <td>1711.58679</td>\n",
              "    </tr>\n",
              "    <tr>\n",
              "      <th>22</th>\n",
              "      <td>18243.791016</td>\n",
              "      <td>16677.59961</td>\n",
              "      <td>32997.96875</td>\n",
              "      <td>15214.06100</td>\n",
              "      <td>1660.51831</td>\n",
              "    </tr>\n",
              "    <tr>\n",
              "      <th>23</th>\n",
              "      <td>18912.939453</td>\n",
              "      <td>17069.09961</td>\n",
              "      <td>34041.35156</td>\n",
              "      <td>15945.39746</td>\n",
              "      <td>1686.51367</td>\n",
              "    </tr>\n",
              "    <tr>\n",
              "      <th>24</th>\n",
              "      <td>18339.251953</td>\n",
              "      <td>17102.55078</td>\n",
              "      <td>33061.50000</td>\n",
              "      <td>15432.02539</td>\n",
              "      <td>1566.92737</td>\n",
              "    </tr>\n",
              "    <tr>\n",
              "      <th>25</th>\n",
              "      <td>18205.359375</td>\n",
              "      <td>17245.05078</td>\n",
              "      <td>32977.21094</td>\n",
              "      <td>15169.46680</td>\n",
              "      <td>1546.45081</td>\n",
              "    </tr>\n",
              "    <tr>\n",
              "      <th>26</th>\n",
              "      <td>18829.025391</td>\n",
              "      <td>17038.40039</td>\n",
              "      <td>33916.39000</td>\n",
              "      <td>15880.00400</td>\n",
              "      <td>1581.64124</td>\n",
              "    </tr>\n",
              "    <tr>\n",
              "      <th>27</th>\n",
              "      <td>18388.560547</td>\n",
              "      <td>17200.80078</td>\n",
              "      <td>33301.92969</td>\n",
              "      <td>15338.96191</td>\n",
              "      <td>1530.59900</td>\n",
              "    </tr>\n",
              "    <tr>\n",
              "      <th>28</th>\n",
              "      <td>18383.148438</td>\n",
              "      <td>16953.94922</td>\n",
              "      <td>33279.96094</td>\n",
              "      <td>15353.27148</td>\n",
              "      <td>1507.96606</td>\n",
              "    </tr>\n",
              "    <tr>\n",
              "      <th>29</th>\n",
              "      <td>18904.367188</td>\n",
              "      <td>17171.94922</td>\n",
              "      <td>34049.46094</td>\n",
              "      <td>15972.50000</td>\n",
              "      <td>1504.27075</td>\n",
              "    </tr>\n",
              "    <tr>\n",
              "      <th>30</th>\n",
              "      <td>18747.130859</td>\n",
              "      <td>17392.59961</td>\n",
              "      <td>33828.12109</td>\n",
              "      <td>15759.98535</td>\n",
              "      <td>1553.64624</td>\n",
              "    </tr>\n",
              "    <tr>\n",
              "      <th>31</th>\n",
              "      <td>19276.773438</td>\n",
              "      <td>17136.55078</td>\n",
              "      <td>34792.76172</td>\n",
              "      <td>16196.02246</td>\n",
              "      <td>1599.25439</td>\n",
              "    </tr>\n",
              "    <tr>\n",
              "      <th>32</th>\n",
              "      <td>19542.033203</td>\n",
              "      <td>16958.65039</td>\n",
              "      <td>35160.78906</td>\n",
              "      <td>16516.45898</td>\n",
              "      <td>1653.33545</td>\n",
              "    </tr>\n",
              "    <tr>\n",
              "      <th>33</th>\n",
              "      <td>19545.982422</td>\n",
              "      <td>17173.65039</td>\n",
              "      <td>34911.19922</td>\n",
              "      <td>16773.50000</td>\n",
              "      <td>1640.59155</td>\n",
              "    </tr>\n",
              "    <tr>\n",
              "      <th>34</th>\n",
              "      <td>19225.388672</td>\n",
              "      <td>17475.65039</td>\n",
              "      <td>34411.69141</td>\n",
              "      <td>16414.29883</td>\n",
              "      <td>1654.89612</td>\n",
              "    </tr>\n",
              "    <tr>\n",
              "      <th>35</th>\n",
              "      <td>19420.244141</td>\n",
              "      <td>17530.30078</td>\n",
              "      <td>34570.98047</td>\n",
              "      <td>16778.72461</td>\n",
              "      <td>1627.80847</td>\n",
              "    </tr>\n",
              "    <tr>\n",
              "      <th>36</th>\n",
              "      <td>19165.642578</td>\n",
              "      <td>17674.94922</td>\n",
              "      <td>34227.64062</td>\n",
              "      <td>16452.34570</td>\n",
              "      <td>1605.06445</td>\n",
              "    </tr>\n",
              "  </tbody>\n",
              "</table>\n",
              "</div>"
            ],
            "text/plain": [
              "               0            0            0            1           2\n",
              "0   17224.824219  16478.09961  31459.35938  13985.11523  1831.63354\n",
              "1   17733.884766  16356.25000  32291.97070  14501.16992  1859.48779\n",
              "2   18129.195312  16416.34961  32900.55078  14933.62800  1897.65796\n",
              "3   18245.708984  16569.55078  33176.10938  14970.48500  1899.65955\n",
              "4   18018.689453  16584.55078  32836.19141  14730.85059  1820.53369\n",
              "5   18158.039062  16661.40039  33000.80859  14945.87793  1789.43689\n",
              "6   18238.486328  16170.15039  33173.44922  14983.81738  1805.54236\n",
              "7   17847.000000  16025.79980  32627.03906  14499.79688  1770.97205\n",
              "8   17505.417969  16125.15039  32116.68945  14106.58887  1752.08118\n",
              "9   17345.783203  16214.70020  31911.99023  13899.74512  1712.21729\n",
              "10  17446.199219  16266.15039  31856.41016  14217.61328  1710.26050\n",
              "11  17127.404297  15809.40039  31248.25000  13988.01465  1663.52539\n",
              "12  17148.353516  16240.29980  31260.40039  14031.77441  1661.43481\n",
              "13  17255.103516  16259.29980  31464.43945  14113.38500  1660.86609\n",
              "14  17920.197266  15842.29980  32621.17969  14718.12800  1705.09143\n",
              "15  17722.564453  15782.15039  32191.83008  14622.01500  1690.90125\n",
              "16  17721.316406  15808.00000  32166.06055  14654.00100  1658.55835\n",
              "17  17280.005859  16167.09961  31671.33008  13996.74100  1599.83679\n",
              "18  17461.685547  16240.04980  31834.10938  14314.10700  1601.73242\n",
              "19  17721.285156  16301.84961  32160.74023  14682.48600  1584.34131\n",
              "20  17673.291016  16411.25000  32245.69922  14477.87900  1572.26648\n",
              "21  18139.328125  16682.65039  32903.78906  15015.70600  1711.58679\n",
              "22  18243.791016  16677.59961  32997.96875  15214.06100  1660.51831\n",
              "23  18912.939453  17069.09961  34041.35156  15945.39746  1686.51367\n",
              "24  18339.251953  17102.55078  33061.50000  15432.02539  1566.92737\n",
              "25  18205.359375  17245.05078  32977.21094  15169.46680  1546.45081\n",
              "26  18829.025391  17038.40039  33916.39000  15880.00400  1581.64124\n",
              "27  18388.560547  17200.80078  33301.92969  15338.96191  1530.59900\n",
              "28  18383.148438  16953.94922  33279.96094  15353.27148  1507.96606\n",
              "29  18904.367188  17171.94922  34049.46094  15972.50000  1504.27075\n",
              "30  18747.130859  17392.59961  33828.12109  15759.98535  1553.64624\n",
              "31  19276.773438  17136.55078  34792.76172  16196.02246  1599.25439\n",
              "32  19542.033203  16958.65039  35160.78906  16516.45898  1653.33545\n",
              "33  19545.982422  17173.65039  34911.19922  16773.50000  1640.59155\n",
              "34  19225.388672  17475.65039  34411.69141  16414.29883  1654.89612\n",
              "35  19420.244141  17530.30078  34570.98047  16778.72461  1627.80847\n",
              "36  19165.642578  17674.94922  34227.64062  16452.34570  1605.06445"
            ]
          },
          "execution_count": 62,
          "metadata": {},
          "output_type": "execute_result"
        }
      ],
      "source": [
        "df1= pd.DataFrame(predictions)\n",
        "df2 =pd.DataFrame(y_test)\n",
        "df3 =pd.DataFrame(X_test)\n",
        "\n",
        "df_concat = pd.concat([df1, df2,df3],axis=1)\n",
        "df_concat\n",
        "\n"
      ]
    },
    {
      "cell_type": "code",
      "execution_count": null,
      "metadata": {
        "id": "Ax-QOeZD5NES",
        "outputId": "a9348700-2fdb-47d8-f925-90d673ed3ef7"
      },
      "outputs": [
        {
          "data": {
            "text/html": [
              "<div>\n",
              "<style scoped>\n",
              "    .dataframe tbody tr th:only-of-type {\n",
              "        vertical-align: middle;\n",
              "    }\n",
              "\n",
              "    .dataframe tbody tr th {\n",
              "        vertical-align: top;\n",
              "    }\n",
              "\n",
              "    .dataframe thead th {\n",
              "        text-align: right;\n",
              "    }\n",
              "</style>\n",
              "<table border=\"1\" class=\"dataframe\">\n",
              "  <thead>\n",
              "    <tr style=\"text-align: right;\">\n",
              "      <th></th>\n",
              "      <th>symbol</th>\n",
              "      <th>name</th>\n",
              "      <th>currency</th>\n",
              "      <th>exchange</th>\n",
              "      <th>mic_code</th>\n",
              "      <th>country</th>\n",
              "      <th>type</th>\n",
              "    </tr>\n",
              "  </thead>\n",
              "  <tbody>\n",
              "    <tr>\n",
              "      <th>0</th>\n",
              "      <td>000</td>\n",
              "      <td>Greenvolt - Energias Renováveis, S.A.</td>\n",
              "      <td>EUR</td>\n",
              "      <td>Munich</td>\n",
              "      <td>XMUN</td>\n",
              "      <td>Germany</td>\n",
              "      <td>Common Stock</td>\n",
              "    </tr>\n",
              "    <tr>\n",
              "      <th>1</th>\n",
              "      <td>000</td>\n",
              "      <td>Greenvolt - Energias Renováveis, S.A.</td>\n",
              "      <td>EUR</td>\n",
              "      <td>FSX</td>\n",
              "      <td>XFRA</td>\n",
              "      <td>Germany</td>\n",
              "      <td>Common Stock</td>\n",
              "    </tr>\n",
              "    <tr>\n",
              "      <th>2</th>\n",
              "      <td>000001</td>\n",
              "      <td>Ping An Bank Co., Ltd.</td>\n",
              "      <td>CNY</td>\n",
              "      <td>SZSE</td>\n",
              "      <td>XSHE</td>\n",
              "      <td>China</td>\n",
              "      <td>Common Stock</td>\n",
              "    </tr>\n",
              "    <tr>\n",
              "      <th>3</th>\n",
              "      <td>000002</td>\n",
              "      <td>China Vanke Co., Ltd.</td>\n",
              "      <td>CNY</td>\n",
              "      <td>SZSE</td>\n",
              "      <td>XSHE</td>\n",
              "      <td>China</td>\n",
              "      <td>Common Stock</td>\n",
              "    </tr>\n",
              "    <tr>\n",
              "      <th>4</th>\n",
              "      <td>000004</td>\n",
              "      <td>Shenzhen GuoHua Network Security Technology Co...</td>\n",
              "      <td>CNY</td>\n",
              "      <td>SZSE</td>\n",
              "      <td>XSHE</td>\n",
              "      <td>China</td>\n",
              "      <td>Common Stock</td>\n",
              "    </tr>\n",
              "    <tr>\n",
              "      <th>...</th>\n",
              "      <td>...</td>\n",
              "      <td>...</td>\n",
              "      <td>...</td>\n",
              "      <td>...</td>\n",
              "      <td>...</td>\n",
              "      <td>...</td>\n",
              "      <td>...</td>\n",
              "    </tr>\n",
              "    <tr>\n",
              "      <th>108801</th>\n",
              "      <td>ZZHGY</td>\n",
              "      <td>ZhongAn Online P &amp; C Insurance Co., Ltd.</td>\n",
              "      <td>USD</td>\n",
              "      <td>OTC</td>\n",
              "      <td>Pink</td>\n",
              "      <td>United States</td>\n",
              "      <td>American Depositary Receipt</td>\n",
              "    </tr>\n",
              "    <tr>\n",
              "      <th>108802</th>\n",
              "      <td>ZZLL</td>\n",
              "      <td>ZZLL Information Technology, Inc.</td>\n",
              "      <td>USD</td>\n",
              "      <td>OTC</td>\n",
              "      <td>OTCQB</td>\n",
              "      <td>United States</td>\n",
              "      <td>Common Stock</td>\n",
              "    </tr>\n",
              "    <tr>\n",
              "      <th>108803</th>\n",
              "      <td>ZZMS</td>\n",
              "      <td>Commerzbank AG</td>\n",
              "      <td>EUR</td>\n",
              "      <td>XSTU</td>\n",
              "      <td>XSTU</td>\n",
              "      <td>Germany</td>\n",
              "      <td>Common Stock</td>\n",
              "    </tr>\n",
              "    <tr>\n",
              "      <th>108804</th>\n",
              "      <td>ZZZ</td>\n",
              "      <td>SLEEP COUNTRY CANADA HOLDING</td>\n",
              "      <td>CAD</td>\n",
              "      <td>TSX</td>\n",
              "      <td>XTSE</td>\n",
              "      <td>Canada</td>\n",
              "      <td>Common Stock</td>\n",
              "    </tr>\n",
              "    <tr>\n",
              "      <th>108805</th>\n",
              "      <td>ZZZOF</td>\n",
              "      <td>Zinc One Resources, Inc.</td>\n",
              "      <td>USD</td>\n",
              "      <td>OTC</td>\n",
              "      <td>Grey</td>\n",
              "      <td>United States</td>\n",
              "      <td>Common Stock</td>\n",
              "    </tr>\n",
              "  </tbody>\n",
              "</table>\n",
              "<p>108806 rows × 7 columns</p>\n",
              "</div>"
            ],
            "text/plain": [
              "        symbol                                               name currency  \\\n",
              "0          000              Greenvolt - Energias Renováveis, S.A.      EUR   \n",
              "1          000              Greenvolt - Energias Renováveis, S.A.      EUR   \n",
              "2       000001                             Ping An Bank Co., Ltd.      CNY   \n",
              "3       000002                              China Vanke Co., Ltd.      CNY   \n",
              "4       000004  Shenzhen GuoHua Network Security Technology Co...      CNY   \n",
              "...        ...                                                ...      ...   \n",
              "108801   ZZHGY           ZhongAn Online P & C Insurance Co., Ltd.      USD   \n",
              "108802    ZZLL                  ZZLL Information Technology, Inc.      USD   \n",
              "108803    ZZMS                                     Commerzbank AG      EUR   \n",
              "108804     ZZZ                       SLEEP COUNTRY CANADA HOLDING      CAD   \n",
              "108805   ZZZOF                           Zinc One Resources, Inc.      USD   \n",
              "\n",
              "       exchange mic_code        country                         type  \n",
              "0        Munich     XMUN        Germany                 Common Stock  \n",
              "1           FSX     XFRA        Germany                 Common Stock  \n",
              "2          SZSE     XSHE          China                 Common Stock  \n",
              "3          SZSE     XSHE          China                 Common Stock  \n",
              "4          SZSE     XSHE          China                 Common Stock  \n",
              "...         ...      ...            ...                          ...  \n",
              "108801      OTC     Pink  United States  American Depositary Receipt  \n",
              "108802      OTC    OTCQB  United States                 Common Stock  \n",
              "108803     XSTU     XSTU        Germany                 Common Stock  \n",
              "108804      TSX     XTSE         Canada                 Common Stock  \n",
              "108805      OTC     Grey  United States                 Common Stock  \n",
              "\n",
              "[108806 rows x 7 columns]"
            ]
          },
          "execution_count": 150,
          "metadata": {},
          "output_type": "execute_result"
        }
      ],
      "source": [
        "from twelvedata import TDClient\n",
        "import pandas as pd\n",
        "\n",
        "# Initialize client - apikey parameter is requiered\n",
        "td = TDClient(apikey=\"7afaa1a443804adc946ef60771c96b60\")\n",
        "\n",
        "stock = td.get_stocks_list().as_json()\n",
        "type(stock)\n",
        "stock = pd.DataFrame(stock)\n"
      ]
    },
    {
      "cell_type": "code",
      "execution_count": null,
      "metadata": {
        "id": "1QDMRMyt5NES",
        "outputId": "a75c0ae6-6e13-40fd-9953-d4c4ec13eb85"
      },
      "outputs": [
        {
          "name": "stdout",
          "output_type": "stream",
          "text": [
            "AARTIIND\n",
            "ABSLAMC\n"
          ]
        },
        {
          "name": "stderr",
          "output_type": "stream",
          "text": [
            "/var/folders/55/y5fmpk_x2q90vhs0y07ppm_80000gn/T/ipykernel_72132/2858456251.py:18: FutureWarning: The frame.append method is deprecated and will be removed from pandas in a future version. Use pandas.concat instead.\n",
            "  data_stocks_final = data_stocks_final.append(data_stocks)\n"
          ]
        },
        {
          "name": "stdout",
          "output_type": "stream",
          "text": [
            "BALAMINES\n"
          ]
        },
        {
          "name": "stderr",
          "output_type": "stream",
          "text": [
            "/var/folders/55/y5fmpk_x2q90vhs0y07ppm_80000gn/T/ipykernel_72132/2858456251.py:18: FutureWarning: The frame.append method is deprecated and will be removed from pandas in a future version. Use pandas.concat instead.\n",
            "  data_stocks_final = data_stocks_final.append(data_stocks)\n"
          ]
        },
        {
          "name": "stdout",
          "output_type": "stream",
          "text": [
            "BHARATRAS\n"
          ]
        },
        {
          "name": "stderr",
          "output_type": "stream",
          "text": [
            "/var/folders/55/y5fmpk_x2q90vhs0y07ppm_80000gn/T/ipykernel_72132/2858456251.py:18: FutureWarning: The frame.append method is deprecated and will be removed from pandas in a future version. Use pandas.concat instead.\n",
            "  data_stocks_final = data_stocks_final.append(data_stocks)\n"
          ]
        },
        {
          "name": "stdout",
          "output_type": "stream",
          "text": [
            "CAPLIPOINT\n"
          ]
        },
        {
          "name": "stderr",
          "output_type": "stream",
          "text": [
            "/var/folders/55/y5fmpk_x2q90vhs0y07ppm_80000gn/T/ipykernel_72132/2858456251.py:18: FutureWarning: The frame.append method is deprecated and will be removed from pandas in a future version. Use pandas.concat instead.\n",
            "  data_stocks_final = data_stocks_final.append(data_stocks)\n"
          ]
        },
        {
          "name": "stdout",
          "output_type": "stream",
          "text": [
            "CHAMBLFERT\n"
          ]
        },
        {
          "name": "stderr",
          "output_type": "stream",
          "text": [
            "/var/folders/55/y5fmpk_x2q90vhs0y07ppm_80000gn/T/ipykernel_72132/2858456251.py:18: FutureWarning: The frame.append method is deprecated and will be removed from pandas in a future version. Use pandas.concat instead.\n",
            "  data_stocks_final = data_stocks_final.append(data_stocks)\n"
          ]
        },
        {
          "name": "stdout",
          "output_type": "stream",
          "text": [
            "COROMANDEL\n"
          ]
        },
        {
          "name": "stderr",
          "output_type": "stream",
          "text": [
            "/var/folders/55/y5fmpk_x2q90vhs0y07ppm_80000gn/T/ipykernel_72132/2858456251.py:18: FutureWarning: The frame.append method is deprecated and will be removed from pandas in a future version. Use pandas.concat instead.\n",
            "  data_stocks_final = data_stocks_final.append(data_stocks)\n"
          ]
        },
        {
          "name": "stdout",
          "output_type": "stream",
          "text": [
            "DEEPAKNTR\n"
          ]
        },
        {
          "name": "stderr",
          "output_type": "stream",
          "text": [
            "/var/folders/55/y5fmpk_x2q90vhs0y07ppm_80000gn/T/ipykernel_72132/2858456251.py:18: FutureWarning: The frame.append method is deprecated and will be removed from pandas in a future version. Use pandas.concat instead.\n",
            "  data_stocks_final = data_stocks_final.append(data_stocks)\n"
          ]
        },
        {
          "name": "stdout",
          "output_type": "stream",
          "text": [
            "EXIDEIND\n"
          ]
        },
        {
          "name": "stderr",
          "output_type": "stream",
          "text": [
            "/var/folders/55/y5fmpk_x2q90vhs0y07ppm_80000gn/T/ipykernel_72132/2858456251.py:18: FutureWarning: The frame.append method is deprecated and will be removed from pandas in a future version. Use pandas.concat instead.\n",
            "  data_stocks_final = data_stocks_final.append(data_stocks)\n"
          ]
        },
        {
          "name": "stdout",
          "output_type": "stream",
          "text": [
            "GPIL\n",
            "Error occurred at index GPIL: HTTPSConnectionPool(host='api.twelvedata.com', port=443): Max retries exceeded with url: /bbands?symbol=GPIL&interval=1day&series_type=close&time_period=20&sd=2&ma_type=SMA&outputsize=40&start_date=2022-12-15&end_date=2023-02-01&dp=5&timezone=Exchange&order=desc&prepost=false&format=JSON&apikey=7afaa1a443804adc946ef60771c96b60&source=python (Caused by SSLError(SSLEOFError(8, 'EOF occurred in violation of protocol (_ssl.c:1129)')))\n",
            "GRAPHITE\n"
          ]
        },
        {
          "name": "stderr",
          "output_type": "stream",
          "text": [
            "/var/folders/55/y5fmpk_x2q90vhs0y07ppm_80000gn/T/ipykernel_72132/2858456251.py:18: FutureWarning: The frame.append method is deprecated and will be removed from pandas in a future version. Use pandas.concat instead.\n",
            "  data_stocks_final = data_stocks_final.append(data_stocks)\n"
          ]
        },
        {
          "name": "stdout",
          "output_type": "stream",
          "text": [
            "GRAVITA\n"
          ]
        },
        {
          "name": "stderr",
          "output_type": "stream",
          "text": [
            "/var/folders/55/y5fmpk_x2q90vhs0y07ppm_80000gn/T/ipykernel_72132/2858456251.py:18: FutureWarning: The frame.append method is deprecated and will be removed from pandas in a future version. Use pandas.concat instead.\n",
            "  data_stocks_final = data_stocks_final.append(data_stocks)\n"
          ]
        },
        {
          "name": "stdout",
          "output_type": "stream",
          "text": [
            "GAEL\n"
          ]
        },
        {
          "name": "stderr",
          "output_type": "stream",
          "text": [
            "/var/folders/55/y5fmpk_x2q90vhs0y07ppm_80000gn/T/ipykernel_72132/2858456251.py:18: FutureWarning: The frame.append method is deprecated and will be removed from pandas in a future version. Use pandas.concat instead.\n",
            "  data_stocks_final = data_stocks_final.append(data_stocks)\n"
          ]
        },
        {
          "name": "stdout",
          "output_type": "stream",
          "text": [
            "GSPL\n"
          ]
        },
        {
          "name": "stderr",
          "output_type": "stream",
          "text": [
            "/var/folders/55/y5fmpk_x2q90vhs0y07ppm_80000gn/T/ipykernel_72132/2858456251.py:18: FutureWarning: The frame.append method is deprecated and will be removed from pandas in a future version. Use pandas.concat instead.\n",
            "  data_stocks_final = data_stocks_final.append(data_stocks)\n"
          ]
        },
        {
          "name": "stdout",
          "output_type": "stream",
          "text": [
            "GUJGASLTD\n"
          ]
        },
        {
          "name": "stderr",
          "output_type": "stream",
          "text": [
            "/var/folders/55/y5fmpk_x2q90vhs0y07ppm_80000gn/T/ipykernel_72132/2858456251.py:18: FutureWarning: The frame.append method is deprecated and will be removed from pandas in a future version. Use pandas.concat instead.\n",
            "  data_stocks_final = data_stocks_final.append(data_stocks)\n"
          ]
        },
        {
          "name": "stdout",
          "output_type": "stream",
          "text": [
            "HGINFRA\n"
          ]
        },
        {
          "name": "stderr",
          "output_type": "stream",
          "text": [
            "/var/folders/55/y5fmpk_x2q90vhs0y07ppm_80000gn/T/ipykernel_72132/2858456251.py:18: FutureWarning: The frame.append method is deprecated and will be removed from pandas in a future version. Use pandas.concat instead.\n",
            "  data_stocks_final = data_stocks_final.append(data_stocks)\n"
          ]
        },
        {
          "name": "stdout",
          "output_type": "stream",
          "text": [
            "HAPPSTMNDS\n"
          ]
        },
        {
          "name": "stderr",
          "output_type": "stream",
          "text": [
            "/var/folders/55/y5fmpk_x2q90vhs0y07ppm_80000gn/T/ipykernel_72132/2858456251.py:18: FutureWarning: The frame.append method is deprecated and will be removed from pandas in a future version. Use pandas.concat instead.\n",
            "  data_stocks_final = data_stocks_final.append(data_stocks)\n"
          ]
        },
        {
          "name": "stdout",
          "output_type": "stream",
          "text": [
            "HEG\n"
          ]
        },
        {
          "name": "stderr",
          "output_type": "stream",
          "text": [
            "/var/folders/55/y5fmpk_x2q90vhs0y07ppm_80000gn/T/ipykernel_72132/2858456251.py:18: FutureWarning: The frame.append method is deprecated and will be removed from pandas in a future version. Use pandas.concat instead.\n",
            "  data_stocks_final = data_stocks_final.append(data_stocks)\n"
          ]
        },
        {
          "name": "stdout",
          "output_type": "stream",
          "text": [
            "HGS\n"
          ]
        },
        {
          "name": "stderr",
          "output_type": "stream",
          "text": [
            "/var/folders/55/y5fmpk_x2q90vhs0y07ppm_80000gn/T/ipykernel_72132/2858456251.py:18: FutureWarning: The frame.append method is deprecated and will be removed from pandas in a future version. Use pandas.concat instead.\n",
            "  data_stocks_final = data_stocks_final.append(data_stocks)\n"
          ]
        },
        {
          "name": "stdout",
          "output_type": "stream",
          "text": [
            "HLEGLAS\n"
          ]
        },
        {
          "name": "stderr",
          "output_type": "stream",
          "text": [
            "/var/folders/55/y5fmpk_x2q90vhs0y07ppm_80000gn/T/ipykernel_72132/2858456251.py:18: FutureWarning: The frame.append method is deprecated and will be removed from pandas in a future version. Use pandas.concat instead.\n",
            "  data_stocks_final = data_stocks_final.append(data_stocks)\n"
          ]
        },
        {
          "name": "stdout",
          "output_type": "stream",
          "text": [
            "INDUSTOWER\n"
          ]
        },
        {
          "name": "stderr",
          "output_type": "stream",
          "text": [
            "/var/folders/55/y5fmpk_x2q90vhs0y07ppm_80000gn/T/ipykernel_72132/2858456251.py:18: FutureWarning: The frame.append method is deprecated and will be removed from pandas in a future version. Use pandas.concat instead.\n",
            "  data_stocks_final = data_stocks_final.append(data_stocks)\n"
          ]
        },
        {
          "name": "stdout",
          "output_type": "stream",
          "text": [
            "IONEXCHANG\n"
          ]
        },
        {
          "name": "stderr",
          "output_type": "stream",
          "text": [
            "/var/folders/55/y5fmpk_x2q90vhs0y07ppm_80000gn/T/ipykernel_72132/2858456251.py:18: FutureWarning: The frame.append method is deprecated and will be removed from pandas in a future version. Use pandas.concat instead.\n",
            "  data_stocks_final = data_stocks_final.append(data_stocks)\n"
          ]
        },
        {
          "name": "stdout",
          "output_type": "stream",
          "text": [
            "JSLHISAR\n"
          ]
        },
        {
          "name": "stderr",
          "output_type": "stream",
          "text": [
            "/var/folders/55/y5fmpk_x2q90vhs0y07ppm_80000gn/T/ipykernel_72132/2858456251.py:18: FutureWarning: The frame.append method is deprecated and will be removed from pandas in a future version. Use pandas.concat instead.\n",
            "  data_stocks_final = data_stocks_final.append(data_stocks)\n"
          ]
        },
        {
          "name": "stdout",
          "output_type": "stream",
          "text": [
            "KPRMILL\n"
          ]
        },
        {
          "name": "stderr",
          "output_type": "stream",
          "text": [
            "/var/folders/55/y5fmpk_x2q90vhs0y07ppm_80000gn/T/ipykernel_72132/2858456251.py:18: FutureWarning: The frame.append method is deprecated and will be removed from pandas in a future version. Use pandas.concat instead.\n",
            "  data_stocks_final = data_stocks_final.append(data_stocks)\n"
          ]
        },
        {
          "name": "stdout",
          "output_type": "stream",
          "text": [
            "KIRLFER\n"
          ]
        },
        {
          "name": "stderr",
          "output_type": "stream",
          "text": [
            "/var/folders/55/y5fmpk_x2q90vhs0y07ppm_80000gn/T/ipykernel_72132/2858456251.py:18: FutureWarning: The frame.append method is deprecated and will be removed from pandas in a future version. Use pandas.concat instead.\n",
            "  data_stocks_final = data_stocks_final.append(data_stocks)\n"
          ]
        },
        {
          "name": "stdout",
          "output_type": "stream",
          "text": [
            "KIMS\n"
          ]
        },
        {
          "name": "stderr",
          "output_type": "stream",
          "text": [
            "/var/folders/55/y5fmpk_x2q90vhs0y07ppm_80000gn/T/ipykernel_72132/2858456251.py:18: FutureWarning: The frame.append method is deprecated and will be removed from pandas in a future version. Use pandas.concat instead.\n",
            "  data_stocks_final = data_stocks_final.append(data_stocks)\n"
          ]
        },
        {
          "name": "stdout",
          "output_type": "stream",
          "text": [
            "LAURUSLABS\n"
          ]
        },
        {
          "name": "stderr",
          "output_type": "stream",
          "text": [
            "/var/folders/55/y5fmpk_x2q90vhs0y07ppm_80000gn/T/ipykernel_72132/2858456251.py:18: FutureWarning: The frame.append method is deprecated and will be removed from pandas in a future version. Use pandas.concat instead.\n",
            "  data_stocks_final = data_stocks_final.append(data_stocks)\n"
          ]
        },
        {
          "name": "stdout",
          "output_type": "stream",
          "text": [
            "LLOYDMETAL\n",
            "Error occurred at index LLOYDMETAL: **symbol** not found: LLOYDMETAL. Please specify it correctly according to API Documentation.\n",
            "LUXIND\n"
          ]
        },
        {
          "name": "stderr",
          "output_type": "stream",
          "text": [
            "/var/folders/55/y5fmpk_x2q90vhs0y07ppm_80000gn/T/ipykernel_72132/2858456251.py:18: FutureWarning: The frame.append method is deprecated and will be removed from pandas in a future version. Use pandas.concat instead.\n",
            "  data_stocks_final = data_stocks_final.append(data_stocks)\n"
          ]
        },
        {
          "name": "stdout",
          "output_type": "stream",
          "text": [
            "MASTEK\n"
          ]
        },
        {
          "name": "stderr",
          "output_type": "stream",
          "text": [
            "/var/folders/55/y5fmpk_x2q90vhs0y07ppm_80000gn/T/ipykernel_72132/2858456251.py:18: FutureWarning: The frame.append method is deprecated and will be removed from pandas in a future version. Use pandas.concat instead.\n",
            "  data_stocks_final = data_stocks_final.append(data_stocks)\n"
          ]
        },
        {
          "name": "stdout",
          "output_type": "stream",
          "text": [
            "MFL\n",
            "Error occurred at index MFL: No data is available on the specified dates. Try setting different start/end dates.\n",
            "MOTILALOFS\n"
          ]
        },
        {
          "name": "stderr",
          "output_type": "stream",
          "text": [
            "/var/folders/55/y5fmpk_x2q90vhs0y07ppm_80000gn/T/ipykernel_72132/2858456251.py:18: FutureWarning: The frame.append method is deprecated and will be removed from pandas in a future version. Use pandas.concat instead.\n",
            "  data_stocks_final = data_stocks_final.append(data_stocks)\n"
          ]
        },
        {
          "name": "stdout",
          "output_type": "stream",
          "text": [
            "NMDC\n"
          ]
        },
        {
          "name": "stderr",
          "output_type": "stream",
          "text": [
            "/var/folders/55/y5fmpk_x2q90vhs0y07ppm_80000gn/T/ipykernel_72132/2858456251.py:18: FutureWarning: The frame.append method is deprecated and will be removed from pandas in a future version. Use pandas.concat instead.\n",
            "  data_stocks_final = data_stocks_final.append(data_stocks)\n"
          ]
        },
        {
          "name": "stdout",
          "output_type": "stream",
          "text": [
            "ORIENTELEC\n"
          ]
        },
        {
          "name": "stderr",
          "output_type": "stream",
          "text": [
            "/var/folders/55/y5fmpk_x2q90vhs0y07ppm_80000gn/T/ipykernel_72132/2858456251.py:18: FutureWarning: The frame.append method is deprecated and will be removed from pandas in a future version. Use pandas.concat instead.\n",
            "  data_stocks_final = data_stocks_final.append(data_stocks)\n"
          ]
        },
        {
          "name": "stdout",
          "output_type": "stream",
          "text": [
            "RAJRATAN\n"
          ]
        },
        {
          "name": "stderr",
          "output_type": "stream",
          "text": [
            "/var/folders/55/y5fmpk_x2q90vhs0y07ppm_80000gn/T/ipykernel_72132/2858456251.py:18: FutureWarning: The frame.append method is deprecated and will be removed from pandas in a future version. Use pandas.concat instead.\n",
            "  data_stocks_final = data_stocks_final.append(data_stocks)\n"
          ]
        },
        {
          "name": "stdout",
          "output_type": "stream",
          "text": [
            "SHAREINDIA\n"
          ]
        },
        {
          "name": "stderr",
          "output_type": "stream",
          "text": [
            "/var/folders/55/y5fmpk_x2q90vhs0y07ppm_80000gn/T/ipykernel_72132/2858456251.py:18: FutureWarning: The frame.append method is deprecated and will be removed from pandas in a future version. Use pandas.concat instead.\n",
            "  data_stocks_final = data_stocks_final.append(data_stocks)\n"
          ]
        },
        {
          "name": "stdout",
          "output_type": "stream",
          "text": [
            "SIS\n"
          ]
        },
        {
          "name": "stderr",
          "output_type": "stream",
          "text": [
            "/var/folders/55/y5fmpk_x2q90vhs0y07ppm_80000gn/T/ipykernel_72132/2858456251.py:18: FutureWarning: The frame.append method is deprecated and will be removed from pandas in a future version. Use pandas.concat instead.\n",
            "  data_stocks_final = data_stocks_final.append(data_stocks)\n"
          ]
        },
        {
          "name": "stdout",
          "output_type": "stream",
          "text": [
            "SONATSOFTW\n"
          ]
        },
        {
          "name": "stderr",
          "output_type": "stream",
          "text": [
            "/var/folders/55/y5fmpk_x2q90vhs0y07ppm_80000gn/T/ipykernel_72132/2858456251.py:18: FutureWarning: The frame.append method is deprecated and will be removed from pandas in a future version. Use pandas.concat instead.\n",
            "  data_stocks_final = data_stocks_final.append(data_stocks)\n"
          ]
        },
        {
          "name": "stdout",
          "output_type": "stream",
          "text": [
            "SRF\n"
          ]
        },
        {
          "name": "stderr",
          "output_type": "stream",
          "text": [
            "/var/folders/55/y5fmpk_x2q90vhs0y07ppm_80000gn/T/ipykernel_72132/2858456251.py:18: FutureWarning: The frame.append method is deprecated and will be removed from pandas in a future version. Use pandas.concat instead.\n",
            "  data_stocks_final = data_stocks_final.append(data_stocks)\n"
          ]
        },
        {
          "name": "stdout",
          "output_type": "stream",
          "text": [
            "SUMICHEM\n"
          ]
        },
        {
          "name": "stderr",
          "output_type": "stream",
          "text": [
            "/var/folders/55/y5fmpk_x2q90vhs0y07ppm_80000gn/T/ipykernel_72132/2858456251.py:18: FutureWarning: The frame.append method is deprecated and will be removed from pandas in a future version. Use pandas.concat instead.\n",
            "  data_stocks_final = data_stocks_final.append(data_stocks)\n"
          ]
        },
        {
          "name": "stdout",
          "output_type": "stream",
          "text": [
            "SPLPETRO\n"
          ]
        },
        {
          "name": "stderr",
          "output_type": "stream",
          "text": [
            "/var/folders/55/y5fmpk_x2q90vhs0y07ppm_80000gn/T/ipykernel_72132/2858456251.py:18: FutureWarning: The frame.append method is deprecated and will be removed from pandas in a future version. Use pandas.concat instead.\n",
            "  data_stocks_final = data_stocks_final.append(data_stocks)\n"
          ]
        },
        {
          "name": "stdout",
          "output_type": "stream",
          "text": [
            "TATASTEEL\n"
          ]
        },
        {
          "name": "stderr",
          "output_type": "stream",
          "text": [
            "/var/folders/55/y5fmpk_x2q90vhs0y07ppm_80000gn/T/ipykernel_72132/2858456251.py:18: FutureWarning: The frame.append method is deprecated and will be removed from pandas in a future version. Use pandas.concat instead.\n",
            "  data_stocks_final = data_stocks_final.append(data_stocks)\n"
          ]
        },
        {
          "name": "stdout",
          "output_type": "stream",
          "text": [
            "VEDL\n",
            "Error occurred at index VEDL: No data is available on the specified dates. Try setting different start/end dates.\n"
          ]
        }
      ],
      "source": [
        "Name =[\"AARTIIND\", \"ABSLAMC\", \"BALAMINES\", \"BHARATRAS\", \"CAPLIPOINT\", \"CHAMBLFERT\", \"COROMANDEL\", \"DEEPAKNTR\", \"EXIDEIND\", \"GPIL\", \"GRAPHITE\", \"GRAVITA\", \"GAEL\", \"GSPL\", \"GUJGASLTD\", \"HGINFRA\", \"HAPPSTMNDS\", \"HEG\", \"HGS\", \"HLEGLAS\", \"INDUSTOWER\", \"IONEXCHANG\", \"JSLHISAR\", \"KPRMILL\", \"KIRLFER\", \"KIMS\", \"LAURUSLABS\", \"LLOYDMETAL\", \"LUXIND\", \"MASTEK\", \"MFL\", \"MOTILALOFS\", \"NMDC\", \"ORIENTELEC\", \"RAJRATAN\", \"SHAREINDIA\", \"SIS\", \"SONATSOFTW\", \"SRF\", \"SUMICHEM\", \"SPLPETRO\", \"TATASTEEL\", \"VEDL\"]\n",
        "#Name =[\"AARTIIND\", \"LLOYDMETAL\", \"LUXIND\"]\n",
        "i = 0\n",
        "for item in Name:\n",
        "    try:\n",
        "        print(item)\n",
        "        ts = td.time_series(\n",
        "            symbol=item,\n",
        "            interval=\"1day\",\n",
        "            start_date=\"2022-12-15\",\n",
        "            outputsize = 40,\n",
        "            end_date=\"2023-02-01\"\n",
        "            )\n",
        "            # Returns pandas.DataFrame\n",
        "        data_stocks=ts.with_rsi().with_linearreg().with_bbands().with_stochrsi().as_pandas()\n",
        "        data_stocks['Name'] = item\n",
        "        if(i == 1):\n",
        "            data_stocks_final = data_stocks_final.append(data_stocks)\n",
        "        if(i == 0):\n",
        "            data_stocks_final = data_stocks\n",
        "            i = 1\n",
        "    \n",
        "    except Exception as e:\n",
        "        print(\"Error occurred at index {}: {}\".format(item, e))\n",
        "        continue\n",
        "\n",
        "    "
      ]
    },
    {
      "cell_type": "code",
      "execution_count": null,
      "metadata": {
        "id": "FXfi2EWg5NES",
        "outputId": "7be286a4-0776-4f9e-b23c-095efb9d1c8a"
      },
      "outputs": [
        {
          "ename": "ImportError",
          "evalue": "dlopen(/Users/bharatthosar/Library/Python/3.9/lib/python/site-packages/talib/_ta_lib.cpython-39-darwin.so, 0x0002): symbol not found in flat namespace '_TA_ACOS'",
          "output_type": "error",
          "traceback": [
            "\u001b[0;31m---------------------------------------------------------------------------\u001b[0m",
            "\u001b[0;31mImportError\u001b[0m                               Traceback (most recent call last)",
            "Cell \u001b[0;32mIn [18], line 3\u001b[0m\n\u001b[1;32m      1\u001b[0m \u001b[39m#data_stocks_final[data_stocks_final['Name']=='TATASTEEL']\u001b[39;00m\n\u001b[1;32m      2\u001b[0m \u001b[39mimport\u001b[39;00m \u001b[39mnumpy\u001b[39;00m \u001b[39mas\u001b[39;00m \u001b[39mnp\u001b[39;00m\n\u001b[0;32m----> 3\u001b[0m \u001b[39mimport\u001b[39;00m \u001b[39mtalib\u001b[39;00m\n",
            "File \u001b[0;32m~/Library/Python/3.9/lib/python/site-packages/talib/__init__.py:93\u001b[0m\n\u001b[1;32m     89\u001b[0m \u001b[39melse\u001b[39;00m:\n\u001b[1;32m     90\u001b[0m     _wrapper \u001b[39m=\u001b[39m \u001b[39mlambda\u001b[39;00m x: x\n\u001b[0;32m---> 93\u001b[0m \u001b[39mfrom\u001b[39;00m \u001b[39m.\u001b[39;00m\u001b[39m_ta_lib\u001b[39;00m \u001b[39mimport\u001b[39;00m (\n\u001b[1;32m     94\u001b[0m     _ta_initialize, _ta_shutdown, MA_Type, __ta_version__,\n\u001b[1;32m     95\u001b[0m     _ta_set_unstable_period \u001b[39mas\u001b[39;00m set_unstable_period,\n\u001b[1;32m     96\u001b[0m     _ta_get_unstable_period \u001b[39mas\u001b[39;00m get_unstable_period,\n\u001b[1;32m     97\u001b[0m     _ta_set_compatibility \u001b[39mas\u001b[39;00m set_compatibility,\n\u001b[1;32m     98\u001b[0m     _ta_get_compatibility \u001b[39mas\u001b[39;00m get_compatibility,\n\u001b[1;32m     99\u001b[0m     __TA_FUNCTION_NAMES__\n\u001b[1;32m    100\u001b[0m )\n\u001b[1;32m    102\u001b[0m \u001b[39m# import all the func and stream functions\u001b[39;00m\n\u001b[1;32m    103\u001b[0m \u001b[39mfrom\u001b[39;00m \u001b[39m.\u001b[39;00m\u001b[39m_ta_lib\u001b[39;00m \u001b[39mimport\u001b[39;00m \u001b[39m*\u001b[39m\n",
            "\u001b[0;31mImportError\u001b[0m: dlopen(/Users/bharatthosar/Library/Python/3.9/lib/python/site-packages/talib/_ta_lib.cpython-39-darwin.so, 0x0002): symbol not found in flat namespace '_TA_ACOS'"
          ]
        }
      ],
      "source": [
        "#data_stocks_final[data_stocks_final['Name']=='TATASTEEL']\n",
        "import numpy as np\n",
        "import talib\n"
      ]
    },
    {
      "cell_type": "code",
      "execution_count": null,
      "metadata": {
        "id": "_M_rgQFY5NES",
        "outputId": "16aa4539-15ec-4fa0-e423-50b18c02f961"
      },
      "outputs": [
        {
          "data": {
            "text/plain": [
              "31580       AARTIIND\n",
              "31871        ABSLAMC\n",
              "43256      BALAMINES\n",
              "44539      BHARATRAS\n",
              "48134     CAPLIPOINT\n",
              "49777     CHAMBLFERT\n",
              "51524     COROMANDEL\n",
              "53945      DEEPAKNTR\n",
              "59081       EXIDEIND\n",
              "61983           GAEL\n",
              "64068           GPIL\n",
              "64204       GRAPHITE\n",
              "64213        GRAVITA\n",
              "64610           GSPL\n",
              "64843      GUJGASLTD\n",
              "65380     HAPPSTMNDS\n",
              "65861            HEG\n",
              "66093        HGINFRA\n",
              "66112            HGS\n",
              "66439        HLEGLAS\n",
              "69187     INDUSTOWER\n",
              "69579     IONEXCHANG\n",
              "71383       JSLHISAR\n",
              "72406           KIMS\n",
              "72458        KIRLFER\n",
              "73037        KPRMILL\n",
              "73821     LAURUSLABS\n",
              "75496         LUXIND\n",
              "76376         MASTEK\n",
              "77327            MFL\n",
              "78758     MOTILALOFS\n",
              "81623           NMDC\n",
              "84349     ORIENTELEC\n",
              "89511       RAJRATAN\n",
              "94307     SHAREINDIA\n",
              "94905            SIS\n",
              "96202     SONATSOFTW\n",
              "96570       SPLPETRO\n",
              "96933            SRF\n",
              "97863       SUMICHEM\n",
              "99053      TATASTEEL\n",
              "104227          VEDL\n",
              "Name: symbol, dtype: object"
            ]
          },
          "execution_count": 187,
          "metadata": {},
          "output_type": "execute_result"
        }
      ],
      "source": [
        "stocklist = stock[(stock['currency']=='INR' ) & (stock['exchange']=='NSE' ) & (stock['symbol'].isin(Name))]['symbol']\n",
        "stocklist"
      ]
    },
    {
      "cell_type": "code",
      "execution_count": null,
      "metadata": {
        "id": "3PSkpv025NET",
        "outputId": "1c052582-0027-4fae-99ab-6847957c7b73"
      },
      "outputs": [
        {
          "ename": "SyntaxError",
          "evalue": "invalid syntax (2571100203.py, line 1)",
          "output_type": "error",
          "traceback": [
            "\u001b[0;36m  Cell \u001b[0;32mIn [188], line 1\u001b[0;36m\u001b[0m\n\u001b[0;31m    for item in Name\u001b[0m\n\u001b[0m                    ^\u001b[0m\n\u001b[0;31mSyntaxError\u001b[0m\u001b[0;31m:\u001b[0m invalid syntax\n"
          ]
        }
      ],
      "source": [
        "\n",
        "    ts = td.time_series(\n",
        "        symbol=item,\n",
        "        interval=\"1day\",\n",
        "        start_date=\"2022-01-01\",\n",
        "        outputsize = 5,\n",
        "        end_date=\"2023-02-01\"\n",
        "        )\n",
        "\n",
        "    # Returns pandas.DataFrame\n",
        "    data_indices=ts.with_rsi().with_linearreg().with_bbands().with_stochrsi().as_pandas()\n",
        "    data_indices\n",
        "\n"
      ]
    }
  ],
  "metadata": {
    "kernelspec": {
      "display_name": "Python 3",
      "language": "python",
      "name": "python3"
    },
    "language_info": {
      "codemirror_mode": {
        "name": "ipython",
        "version": 3
      },
      "file_extension": ".py",
      "mimetype": "text/x-python",
      "name": "python",
      "nbconvert_exporter": "python",
      "pygments_lexer": "ipython3",
      "version": "3.9.6"
    },
    "orig_nbformat": 4,
    "vscode": {
      "interpreter": {
        "hash": "31f2aee4e71d21fbe5cf8b01ff0e069b9275f58929596ceb00d14d90e3e16cd6"
      }
    },
    "colab": {
      "provenance": [],
      "include_colab_link": true
    }
  },
  "nbformat": 4,
  "nbformat_minor": 0
}